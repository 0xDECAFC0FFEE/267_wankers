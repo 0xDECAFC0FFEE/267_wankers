{
 "cells": [
  {
   "cell_type": "code",
   "execution_count": 2,
   "metadata": {},
   "outputs": [
    {
     "name": "stdout",
     "output_type": "stream",
     "text": [
      "The autoreload extension is already loaded. To reload it, use:\n",
      "  %reload_ext autoreload\n",
      "/home/lucastong/.pyenv/versions/anaconda3-2019.07/envs/tf2/bin/python\n",
      "[name: \"/device:CPU:0\"\n",
      "device_type: \"CPU\"\n",
      "memory_limit: 268435456\n",
      "locality {\n",
      "}\n",
      "incarnation: 14909986876035933236\n",
      ", name: \"/device:XLA_CPU:0\"\n",
      "device_type: \"XLA_CPU\"\n",
      "memory_limit: 17179869184\n",
      "locality {\n",
      "}\n",
      "incarnation: 12340077375908944273\n",
      "physical_device_desc: \"device: XLA_CPU device\"\n",
      ", name: \"/device:GPU:0\"\n",
      "device_type: \"GPU\"\n",
      "memory_limit: 7331719424\n",
      "locality {\n",
      "  bus_id: 1\n",
      "  links {\n",
      "  }\n",
      "}\n",
      "incarnation: 13545600693814634019\n",
      "physical_device_desc: \"device: 0, name: GeForce RTX 2080, pci bus id: 0000:01:00.0, compute capability: 7.5\"\n",
      ", name: \"/device:XLA_GPU:0\"\n",
      "device_type: \"XLA_GPU\"\n",
      "memory_limit: 17179869184\n",
      "locality {\n",
      "}\n",
      "incarnation: 2850667063431459540\n",
      "physical_device_desc: \"device: XLA_GPU device\"\n",
      "]\n",
      "tensorflow version: 2.2.0\n"
     ]
    }
   ],
   "source": [
    "%load_ext autoreload\n",
    "%autoreload 2\n",
    "\n",
    "import sys\n",
    "print(sys.executable)\n",
    "\n",
    "from pathlib import Path\n",
    "import random\n",
    "import numpy as np\n",
    "np.set_printoptions(edgeitems=30, linewidth=100000, formatter=dict(float=lambda x: \"%.3g\" % x))\n",
    "import os\n",
    "\n",
    "import tensorflow as tf\n",
    "from tensorflow.python.client import device_lib\n",
    "print(device_lib.list_local_devices())\n",
    "\n",
    "# from tensorflow.compat.v1 import ConfigProto\n",
    "# from tensorflow.compat.v1 import InteractiveSession\n",
    "\n",
    "# config = ConfigProto()\n",
    "# config.gpu_options.per_process_gpu_memory_fraction = 0.2\n",
    "# config.gpu_options.allow_growth = True\n",
    "# session = InteractiveSession(config=config)\n",
    "\n",
    "\n",
    "import pandas as pd\n",
    "from utils import *\n",
    "from scipy.sparse import csr_matrix\n",
    "import matplotlib.pyplot as plt\n",
    "from tqdm import tqdm\n",
    "from collections import Counter\n",
    "from tensorflow.keras.preprocessing import sequence\n",
    "from tensorflow.keras.models import Sequential\n",
    "from tensorflow.keras.datasets import imdb\n",
    "from tensorflow.keras import Model, regularizers\n",
    "from tensorflow.keras.layers import Flatten, Dense, Embedding, RNN, GRU, Bidirectional, Layer, Dropout\n",
    "from tensorflow import keras\n",
    "from tensorflow_probability import distributions\n",
    "from tqdm.notebook import tqdm\n",
    "from collections import defaultdict\n",
    "import functools\n",
    "import copy\n",
    "from itertools import chain\n",
    "import pickle\n",
    "from process_data import filename_from_args\n",
    "import bz2\n",
    "\n",
    "physical_devices = tf.config.experimental.list_physical_devices('GPU')\n",
    "print(f\"tensorflow version: {tf.__version__}\")\n",
    "    \n",
    "# TENSORFLOW 2 IS A PAIN IN THE ASS"
   ]
  },
  {
   "cell_type": "code",
   "execution_count": 5,
   "metadata": {},
   "outputs": [
    {
     "name": "stdout",
     "output_type": "stream",
     "text": [
      "loading dataset\n",
      "user content shape: (3,), item content shape: (256,)\n",
      "user content dtype: float64, item content dtype: float64\n"
     ]
    }
   ],
   "source": [
    "with bz2.open(\"processed_data/dataset.pkl\", \"rb\") as handle:\n",
    "    dataset = pickle.load(handle)\n",
    "print(\"loading dataset\")\n",
    "    \n",
    "train, val, test, user_item_info, keymaps = dataset\n",
    "train_X, train_y = train\n",
    "val_X, val_y = val\n",
    "(test_X, ) = test\n",
    "user_info, item_info = user_item_info\n",
    "user_keymap, item_keymap = keymaps\n",
    "\n",
    "num_users = len(user_keymap)\n",
    "num_items = len(item_keymap)\n",
    "\n",
    "item_content = zip(item_info[\"item_id\"], item_info[\"text_vec\"], item_info[\"img_vec\"])\n",
    "item_content = {iid: np.append(text, img, axis=0) for iid, text, img in item_content}\n",
    "item_content = [item_content[iid] for iid in range(num_items)]\n",
    "item_shape = item_content[0].shape\n",
    "\n",
    "user_content = zip(user_info[\"user_id\"], user_info[\"user_age_level\"], user_info[\"user_gender\"], user_info[\"user_city_level\"])\n",
    "user_content = {uid: np.array([age, gender, city]) for uid, age, gender, city in user_content}\n",
    "user_content = [user_content[uid] for uid in range(num_users)]\n",
    "user_shape = user_content[0].shape\n",
    "\n",
    "print(f\"user content shape: {user_shape}, item content shape: {item_shape}\")\n",
    "print(f\"user content dtype: {user_content[0].dtype}, item content dtype: {user_content[0].dtype}\")"
   ]
  },
  {
   "cell_type": "code",
   "execution_count": 6,
   "metadata": {},
   "outputs": [
    {
     "name": "stdout",
     "output_type": "stream",
     "text": [
      "dict_keys(['user_id', 'session', 'X_time', 'y_time'])\n",
      "[2592, 2592]\n",
      "[16.190959356900564, 21.051956369637296]\n",
      "[array([11938, 15558,     6], dtype=int32), array([11938, 15558,     6, 23836,  1370], dtype=int32)]\n",
      "[array([0.107, 0.148, 0.148]), array([0.0705, 0.086, 0.0861, 0.171, 0.668])]\n",
      "[23836, 20271, 33442]\n",
      "dict_keys(['user_id', 'session', 'X_time', 'y_time'])\n",
      "[16842, 16843]\n",
      "[55.66493458609149, 70.20031492510381]\n",
      "[1641     24704\n",
      "21129    36106\n",
      "20776    11305\n",
      "3684     32745\n",
      "1359      6539\n",
      "2318     28165\n",
      "20237    17165\n",
      "Name: item_id, dtype: int64, 12748      708\n",
      "19013    20429\n",
      "11118    19014\n",
      "15212    34684\n",
      "15827    32953\n",
      "2278     25342\n",
      "14452    26558\n",
      "13953    38495\n",
      "16499    31695\n",
      "10087    34939\n",
      "Name: item_id, dtype: int64]\n",
      "[1641     0.025323\n",
      "21129    0.025394\n",
      "20776    0.028970\n",
      "3684     0.029221\n",
      "1359     0.029247\n",
      "2318     0.029507\n",
      "20237    0.936490\n",
      "Name: time, dtype: float64, 12748    0.015907\n",
      "19013    0.015909\n",
      "11118    0.015914\n",
      "15212    0.017493\n",
      "15827    0.017498\n",
      "2278     0.044468\n",
      "14452    0.044505\n",
      "13953    0.044530\n",
      "16499    0.044741\n",
      "10087    0.922618\n",
      "Name: time, dtype: float64]\n",
      "dict_keys(['user_id', 'user_age_level', 'user_gender', 'user_city_level'])\n",
      "[27769 18520]\n",
      "[8 7]\n",
      "[1 1]\n",
      "[4 2]\n"
     ]
    }
   ],
   "source": [
    "print(train_X.keys())\n",
    "print(train_X[\"user_id\"][:2])\n",
    "print(train_X[\"y_time\"][:2])\n",
    "print(train_X[\"session\"][:2])\n",
    "print(train_X[\"X_time\"][:2])\n",
    "\n",
    "print(train_y[:3])\n",
    "\n",
    "print(test_X[\"0\"].keys())\n",
    "print(test_X[\"0\"][\"user_id\"][:2])\n",
    "print(test_X[\"0\"][\"y_time\"][:2])\n",
    "print(test_X[\"0\"][\"session\"][:2])\n",
    "print(test_X[\"0\"][\"X_time\"][:2])\n",
    "\n",
    "print(user_info.keys())\n",
    "print(user_info[\"user_id\"][:2])\n",
    "print(user_info[\"user_age_level\"][:2])\n",
    "print(user_info[\"user_gender\"][:2])\n",
    "print(user_info[\"user_city_level\"][:2])"
   ]
  },
  {
   "cell_type": "code",
   "execution_count": 7,
   "metadata": {},
   "outputs": [
    {
     "name": "stdout",
     "output_type": "stream",
     "text": [
      "[8 7 6 6 6 7 6 7 6 7 6 5 5 6 4 7 6 5 7 6 6 6 6 6 5 6 7 6 6 8 ... 4.54 4.54 4.54 4.54 4.54 4.54 4.54 4.54 4.54 4.54 4.54 4.54 4.54 4.54 4.54 4.54 4.54 4.54 4.54 4.54 4.54 4.54 4.54 4.54 4.54 4.54 4.54 4.54 4.54 4.54]\n"
     ]
    }
   ],
   "source": [
    "print(user_info[\"user_age_level\"])"
   ]
  },
  {
   "cell_type": "code",
   "execution_count": 8,
   "metadata": {},
   "outputs": [],
   "source": [
    "class GrumbelSoftmaxActivation(tf.keras.layers.Layer):\n",
    "    def __init__(self, temp):\n",
    "        super(GrumbelSoftmaxActivation, self).__init__()\n",
    "        self.temp = temp\n",
    "        self.gumbel = distributions.Gumbel(0, 1)\n",
    "    \n",
    "    def call(self, values):\n",
    "        values = tf.nn.softmax(values, axis=1)\n",
    "        grumbel_sample = self.gumbel.sample(values.shape)\n",
    "        softmax_input = (tf.math.log(values)+grumbel_sample)/self.temp\n",
    "        output = tf.nn.softmax(softmax_input, axis=1)\n",
    "        return output\n",
    "\n",
    "class LocalAttention(tf.keras.layers.Layer):\n",
    "    def __init__(self, embedding_size):\n",
    "        super(LocalAttention, self).__init__()\n",
    "\n",
    "        print(\"embedding_size\", embedding_size)\n",
    "        self.embedding_size = embedding_size\n",
    "    \n",
    "        self.tanh_layer = Dense(\n",
    "            self.embedding_size,\n",
    "            activation='tanh',\n",
    "            kernel_initializer='glorot_uniform',\n",
    "            name=\"tanh_layer\")\n",
    "        \n",
    "        u_shape = [self.embedding_size]\n",
    "        self.u = self.add_weight(\"importance\", shape=u_shape)\n",
    "\n",
    "    def call(self, values, mask):\n",
    "        batch_size, cur_session_len, item_shape = values.shape[0],values.shape[1],values.shape[2:]\n",
    "        item_dims = len(item_shape)\n",
    "        \n",
    "        tanh_layer = self.tanh_layer(values)\n",
    "        \n",
    "        similarity_vector = tf.tensordot(tanh_layer, self.u, axes=([2], [0]))\n",
    "        similarity_vector = similarity_vector+mask\n",
    "\n",
    "        weights = tf.nn.softmax(similarity_vector, axis=1)\n",
    "        \n",
    "        values_transpose_axes = [i+2 for i in range(item_dims)]+[0, 1]\n",
    "        inv_values_transpose_axes = [item_dims, item_dims+1]+[i for i in range(item_dims)]\n",
    "        weighted_inputs = tf.transpose(\n",
    "            tf.transpose(values, perm=values_transpose_axes)*weights,\n",
    "            perm=inv_values_transpose_axes\n",
    "        )\n",
    "        output = tf.math.reduce_sum(weighted_inputs, axis=1)\n",
    "        return output\n",
    "\n",
    "class TestModel(Model):\n",
    "    def __init__(self,\n",
    "        num_users, \n",
    "        num_items, \n",
    "        embedding_size,\n",
    "        user_features,\n",
    "        item_features,\n",
    "        gru_size, \n",
    "        dense2_size, \n",
    "        dense3_size, \n",
    "        softmax_classes, \n",
    "        temp):\n",
    "        super(TestModel, self).__init__()\n",
    "\n",
    "\n",
    "#         user_feat_size = user_features.shape[1]\n",
    "#         self.user_features = user_features\n",
    "        self.user_embedding_weights = self.add_weight(\n",
    "            initializer=tf.random_uniform_initializer(minval=-1, maxval=1), \n",
    "            shape=[num_users, embedding_size],\n",
    "            dtype=tf.float32\n",
    "        )\n",
    "#         self.user_embeddings = tf.concat((self.user_embedding_weights, self.user_features), axis=1)\n",
    "        self.user_embeddings = self.user_embedding_weights\n",
    "\n",
    "#         item_feat_size = item_features.shape[1]\n",
    "#         self.item_features = item_features\n",
    "        self.item_embedding_weights = self.add_weight(\n",
    "            initializer=tf.random_uniform_initializer(minval=-1, maxval=1), \n",
    "            shape=[num_items, embedding_size],\n",
    "            dtype=tf.float32\n",
    "        )\n",
    "#         self.item_embeddings = tf.concat((self.item_embedding_weights, self.item_features), axis=1)\n",
    "        self.item_embeddings = self.item_embedding_weights\n",
    "\n",
    "        self.sess_time_weight = self.add_weight(\n",
    "            initializer=tf.random_uniform_initializer(minval=0, maxval=2), \n",
    "            shape=[1],\n",
    "            dtype=tf.float32\n",
    "        )\n",
    "        self.sess_time_bias = self.add_weight(\n",
    "            initializer=tf.zeros_initializer(), \n",
    "            shape=[1],\n",
    "            dtype=tf.float32\n",
    "        )\n",
    "\n",
    "        self.rnn = Bidirectional(GRU(gru_size, return_sequences=True), merge_mode=\"concat\")\n",
    "        self.attention1 = LocalAttention(gru_size)\n",
    "        self.dense2 = Dense(\n",
    "            dense2_size,\n",
    "            activation=\"linear\", \n",
    "            kernel_initializer='he_normal'\n",
    "        )\n",
    "        self.dense2_act=tf.keras.layers.LeakyReLU()\n",
    "        \n",
    "\n",
    "#         self.clustering = Dense(\n",
    "#             softmax_classes,\n",
    "#             activation=\"linear\", \n",
    "#             kernel_initializer='GlorotNormal'\n",
    "#         )\n",
    "#         self.clustering_act=GrumbelSoftmaxActivation(temp)\n",
    "#         self.clustering_map = Dense(\n",
    "#             embedding_size, \n",
    "#             activation=\"linear\", \n",
    "#             kernel_initializer='he_normal'\n",
    "#         )\n",
    "#         self.clustering_map_act=tf.keras.layers.LeakyReLU() \n",
    "\n",
    "        self.dense3 = Dense(\n",
    "            dense3_size, \n",
    "            activation=\"linear\", \n",
    "            kernel_initializer='he_normal'\n",
    "        )\n",
    "\n",
    "        self.dense3_act=tf.keras.layers.LeakyReLU()\n",
    "        self.logits = Dense(\n",
    "            num_items,\n",
    "            activation=\"linear\",\n",
    "            kernel_initializer='GlorotNormal'\n",
    "        )\n",
    "        \n",
    "    def call(self, sesses, sess_times, masks, users, y_times, training=False):\n",
    "\n",
    "#         print(\"users shape\", users.shape)\n",
    "#         print(\"sessions shape\", sesses.shape)\n",
    "        \n",
    "        num_sessions = users.shape[0]\n",
    "        print(\"num sessions\", num_sessions)\n",
    "        user_embeddings = tf.nn.embedding_lookup(self.user_embeddings, users)\n",
    "        print(\"user embeddings shape\", user_embeddings.shape)\n",
    "        sess_embeddings = tf.nn.embedding_lookup(self.item_embeddings, sesses)\n",
    "        print(\"sess embeddings shape\", sess_embeddings.shape)\n",
    "        \n",
    "#         print(\"user embeddings shape\", user_embeddings.shape)\n",
    "#         print(\"sess embeddings shape\", sess_embeddings.shape)\n",
    "#         print(\"sess times shape\", sess_times.shape)\n",
    "#         print(\"masks shape\", masks.shape)\n",
    "#         print(\"y_times shape\", y_times.shape)\n",
    "        \n",
    "#         print(\"user embeddings shape\", user_embeddings.shape)\n",
    "#         print(\"sess embeddings shape\", sess_embeddings.shape)# tf.reshape(sess_embeddings, (num_sessions, -1)).shape\n",
    "#         print(\"sess times shape\", sess_times.shape)\n",
    "#         print(\"masks shape\", masks.shape)\n",
    "#         print(\"y_times shape\", y_times[:,None].shape)\n",
    "        \n",
    "        rnn_output = self.rnn(sess_embeddings)\n",
    "        print(\"rnn output shape\", rnn_output.shape)\n",
    "#         print(\"rnn_output shape\", rnn_output.shape)\n",
    "        \n",
    "#         print(\"sess time weight\", self.sess_time_weight)\n",
    "        sess_times = tf.math.add(tf.math.multiply(self.sess_time_weight, sess_times), self.sess_time_bias)\n",
    "#         print(\"sess_times shape\", sess_times.shape)\n",
    "        sess_item_weights = tf.nn.softmax(sess_times)\n",
    "#         print(\"sess_item_weights shape\", sess_item_weights.shape)\n",
    "#         print(\"sess_item_weights\", sess_item_weights)\n",
    "#         print(\"rnn_output\", rnn_output)\n",
    "        \n",
    "        weighted_rnn_output = tf.math.multiply(rnn_output, sess_item_weights[:, :, None])\n",
    "#         print(\"weighted_rnn_output\", weighted_rnn_output)\n",
    "#         print(\"weighted_rnn_output shape\", weighted_rnn_output.shape)\n",
    "        \n",
    "        attention_output = self.attention1(weighted_rnn_output, mask)\n",
    "        print(\"attention output shape\", attention_output.shape)\n",
    "#         print(\"attention shape\", attention_output.shape)\n",
    "        \n",
    "        inputs = tf.concat((user_embeddings, attention_output, y_times[:,None]), axis=1)\n",
    "        print(\"user attention ytime shape\", inputs.shape)\n",
    "        \n",
    "        if training:\n",
    "            dense2 = Dropout(.5)(self.dense2_act(self.dense2(inputs)))\n",
    "            print(\"dense2 shape\", dense2.shape)\n",
    "            dense3 = Dropout(.5)(self.dense3_act(self.dense3(dense2)))\n",
    "            print(\"dense3 shape\", dense3.shape)\n",
    "            logits = self.logits(dense3)\n",
    "            print(\"logits shape\", logits.shape)\n",
    "            softmax = tf.nn.softmax(logits)\n",
    "        else:\n",
    "            dense2 = self.dense2_act(self.dense2(inputs))\n",
    "            dense3 = self.dense3_act(self.dense3(dense2))\n",
    "            logits = self.logits(dense3)\n",
    "            \n",
    "            \n",
    "            softmax = tf.nn.softmax(logits)\n",
    "            noise = tf.random.uniform(logits.shape, maxval=10e-4)\n",
    "            softmax = softmax+noise\n",
    "        return logits, softmax\n",
    "        \n",
    "        \n",
    "#         Dropout(.5)(self.dense3_act(self.dense3(cluster_att)))\n",
    "        \n",
    "#         rnn_output = self.rnn(word_embeddings)\n",
    "#         print(\"rnn shape\", rnn_output.shape.as_list())\n",
    "#         attention_output = self.attention1(rnn_output, mask)\n",
    "#         print(\"attention shape\", attention_output.shape.as_list())\n",
    "\n",
    "#         if training:\n",
    "#             dense2 = Dropout(.5)(self.dense2_act(self.dense2(attention_output)))\n",
    "#             print(\"dense2 shape\", dense2.shape.as_list())\n",
    "#             clusters = self.clustering_act(self.clustering(dense2))\n",
    "#             print(\"clusters shape\", clusters.shape.as_list())\n",
    "#             clusterout = self.clustering_map_act(self.clustering_map(clusters))\n",
    "#             print(\"cluster shape\", clusterout.shape.as_list())\n",
    "#             # cluster_att = tf.concat((word_embeddings, clusterout), axis=2)\n",
    "#             cluster_att = tf.concat((dense2, clusterout), axis=1)\n",
    "#             print(\"cluster_att shape\", cluster_att.shape.as_list())\n",
    "\n",
    "#             dense3 = Dropout(.5)(self.dense3_act(self.dense3(cluster_att)))\n",
    "#             print(\"dense3 shape\", dense3.shape.as_list())\n",
    "\n",
    "#             logits = self.logits(dense3)\n",
    "#             print(\"logits shape\", logits.shape.as_list())\n",
    "\n",
    "#         else:\n",
    "#             dense2 = self.dense2_act(self.dense2(attention_output))\n",
    "#             clusters = self.clustering_act(self.clustering(dense2))\n",
    "#             clusterout = self.clustering_map_act(self.clustering_map(clusters))\n",
    "#             # cluster_att = tf.concat((word_embeddings, clusterout), axis=2)\n",
    "#             cluster_att = tf.concat((dense2, clusterout), axis=1)\n",
    "\n",
    "#             dense3 = self.dense3_act(self.dense3(cluster_att))\n",
    "\n",
    "#             logits = self.logits(dense3)\n",
    "            \n",
    "#             noise = tf.random.uniform(logits.shape, maxval=10e-6)\n",
    "#             logits = logits + noise # adding the randomness cause topk categorical acc shitty\n",
    "        \n",
    "#         softmax = tf.nn.softmax(logits)\n",
    "#         return logits, softmax\n",
    "        \n",
    "    def get_loss(self, y_true, logits):\n",
    "        ce_loss = tf.keras.losses.SparseCategoricalCrossentropy(from_logits=True)(y_true, logits)\n",
    "\n",
    "        l1_reg = sum([tf.reduce_sum(tf.math.abs(tf.reshape(weight, [-1]))) for weight in self.trainable_variables])        \n",
    "        num_trainable_variables = np.sum([np.prod(var.shape) for var in self.trainable_variables])\n",
    "        l1_reg /= num_trainable_variables\n",
    "        l1_reg *= 10\n",
    "        loss = ce_loss+l1_reg\n",
    "        return loss\n",
    "    \n",
    "    @tf.function\n",
    "    def train_step(self, sesses, sess_times, masks, users, y_times, ys, scores):\n",
    "        with tf.GradientTape() as tape:\n",
    "            logits, preds = self.call(sesses, sess_times, masks, users, y_times, training=True)\n",
    "            loss = self.get_loss(y_true=ys, logits=logits)\n",
    "        gradients = tape.gradient(loss, model.trainable_variables)\n",
    "        gradients = [tf.clip_by_value(grad, -1., 1.) for grad in gradients] # clip grads to stop nan problem\n",
    "        optimizer.apply_gradients(zip(gradients, model.trainable_variables))\n",
    "\n",
    "        for score in scores:\n",
    "            score.update_state(tf.cast(ys, tf.float32), tf.cast(preds, tf.float32))\n",
    "\n",
    "        return logits, preds, loss\n",
    "\n",
    "    @tf.function\n",
    "    def test_step(self, sesses, sess_times, masks, users, y_times, ys=None, scores=None):\n",
    "        logits, preds = self.call(sesses, sess_times, masks, users, y_times, training=False)\n",
    "#         if ys == None:\n",
    "        for score in scores:\n",
    "            score.update_state(tf.cast(ys, tf.float32), tf.cast(preds, tf.float32))\n",
    "        return logits, preds"
   ]
  },
  {
   "cell_type": "code",
   "execution_count": 9,
   "metadata": {},
   "outputs": [
    {
     "name": "stdout",
     "output_type": "stream",
     "text": [
      "batch_size 256\n",
      "embedding_size 256\n"
     ]
    },
    {
     "data": {
      "application/vnd.jupyter.widget-view+json": {
       "model_id": "9f8df8b9f7a84e3a8a5bc4b665764b76",
       "version_major": 2,
       "version_minor": 0
      },
      "text/plain": [
       "HBox(children=(FloatProgress(value=0.0, max=60.0), HTML(value='')))"
      ]
     },
     "metadata": {},
     "output_type": "display_data"
    },
    {
     "name": "stdout",
     "output_type": "stream",
     "text": [
      "epoch 0/60\n"
     ]
    },
    {
     "data": {
      "application/vnd.jupyter.widget-view+json": {
       "model_id": "cbdfac796a954537a9498587da155287",
       "version_major": 2,
       "version_minor": 0
      },
      "text/plain": [
       "HBox(children=(FloatProgress(value=0.0, max=41973.0), HTML(value='')))"
      ]
     },
     "metadata": {},
     "output_type": "display_data"
    },
    {
     "name": "stdout",
     "output_type": "stream",
     "text": [
      "num sessions 256\n",
      "user embeddings shape (256, 384)\n",
      "sess embeddings shape (256, 216, 384)\n",
      "rnn output shape (256, 216, 512)\n",
      "attention output shape (256, 512)\n",
      "user attention ytime shape (256, 897)\n",
      "dense2 shape (256, 512)\n",
      "dense3 shape (256, 256)\n",
      "logits shape (256, 115720)\n"
     ]
    },
    {
     "name": "stderr",
     "output_type": "stream",
     "text": [
      "/home/lucastong/.pyenv/versions/anaconda3-2019.07/envs/tf2/lib/python3.7/site-packages/tensorflow/python/framework/indexed_slices.py:434: UserWarning: Converting sparse IndexedSlices to a dense Tensor of unknown shape. This may consume a large amount of memory.\n",
      "  \"Converting sparse IndexedSlices to a dense Tensor of unknown shape. \"\n"
     ]
    },
    {
     "name": "stdout",
     "output_type": "stream",
     "text": [
      "num sessions 256\n",
      "user embeddings shape (256, 384)\n",
      "sess embeddings shape (256, 216, 384)\n",
      "rnn output shape (256, 216, 512)\n",
      "attention output shape (256, 512)\n",
      "user attention ytime shape (256, 897)\n",
      "dense2 shape (256, 512)\n",
      "dense3 shape (256, 256)\n",
      "logits shape (256, 115720)\n",
      "num sessions 256\n",
      "user embeddings shape (256, 384)\n",
      "sess embeddings shape (256, 320, 384)\n",
      "rnn output shape (256, 320, 512)\n",
      "attention output shape (256, 512)\n",
      "user attention ytime shape (256, 897)\n",
      "dense2 shape (256, 512)\n",
      "dense3 shape (256, 256)\n",
      "logits shape (256, 115720)\n",
      "num sessions 256\n",
      "user embeddings shape (256, 384)\n",
      "sess embeddings shape (256, 284, 384)\n",
      "rnn output shape (256, 284, 512)\n",
      "attention output shape (256, 512)\n",
      "user attention ytime shape (256, 897)\n",
      "dense2 shape (256, 512)\n",
      "dense3 shape (256, 256)\n",
      "logits shape (256, 115720)\n",
      "num sessions 256\n",
      "user embeddings shape (256, 384)\n",
      "sess embeddings shape (256, 304, 384)\n",
      "rnn output shape (256, 304, 512)\n",
      "attention output shape (256, 512)\n",
      "user attention ytime shape (256, 897)\n",
      "dense2 shape (256, 512)\n",
      "dense3 shape (256, 256)\n",
      "logits shape (256, 115720)\n",
      "num sessions 256\n",
      "user embeddings shape (256, 384)\n",
      "sess embeddings shape (256, 328, 384)\n",
      "rnn output shape (256, 328, 512)\n",
      "attention output shape (256, 512)\n",
      "user attention ytime shape (256, 897)\n",
      "dense2 shape (256, 512)\n",
      "dense3 shape (256, 256)\n",
      "logits shape (256, 115720)\n",
      "WARNING:tensorflow:5 out of the last 5 calls to <function TestModel.train_step at 0x7f87d402b1e0> triggered tf.function retracing. Tracing is expensive and the excessive number of tracings is likely due to passing python objects instead of tensors. Also, tf.function has experimental_relax_shapes=True option that relaxes argument shapes that can avoid unnecessary retracing. Please refer to https://www.tensorflow.org/tutorials/customization/performance#python_or_tensor_args and https://www.tensorflow.org/api_docs/python/tf/function for more details.\n"
     ]
    },
    {
     "name": "stderr",
     "output_type": "stream",
     "text": [
      "WARNING:tensorflow:5 out of the last 5 calls to <function TestModel.train_step at 0x7f87d402b1e0> triggered tf.function retracing. Tracing is expensive and the excessive number of tracings is likely due to passing python objects instead of tensors. Also, tf.function has experimental_relax_shapes=True option that relaxes argument shapes that can avoid unnecessary retracing. Please refer to https://www.tensorflow.org/tutorials/customization/performance#python_or_tensor_args and https://www.tensorflow.org/api_docs/python/tf/function for more details.\n"
     ]
    },
    {
     "name": "stdout",
     "output_type": "stream",
     "text": [
      "num sessions 256\n",
      "user embeddings shape (256, 384)\n",
      "sess embeddings shape (256, 228, 384)\n",
      "rnn output shape (256, 228, 512)\n",
      "attention output shape (256, 512)\n",
      "user attention ytime shape (256, 897)\n",
      "dense2 shape (256, 512)\n",
      "dense3 shape (256, 256)\n",
      "logits shape (256, 115720)\n",
      "WARNING:tensorflow:6 out of the last 6 calls to <function TestModel.train_step at 0x7f87d402b1e0> triggered tf.function retracing. Tracing is expensive and the excessive number of tracings is likely due to passing python objects instead of tensors. Also, tf.function has experimental_relax_shapes=True option that relaxes argument shapes that can avoid unnecessary retracing. Please refer to https://www.tensorflow.org/tutorials/customization/performance#python_or_tensor_args and https://www.tensorflow.org/api_docs/python/tf/function for more details.\n"
     ]
    },
    {
     "name": "stderr",
     "output_type": "stream",
     "text": [
      "WARNING:tensorflow:6 out of the last 6 calls to <function TestModel.train_step at 0x7f87d402b1e0> triggered tf.function retracing. Tracing is expensive and the excessive number of tracings is likely due to passing python objects instead of tensors. Also, tf.function has experimental_relax_shapes=True option that relaxes argument shapes that can avoid unnecessary retracing. Please refer to https://www.tensorflow.org/tutorials/customization/performance#python_or_tensor_args and https://www.tensorflow.org/api_docs/python/tf/function for more details.\n"
     ]
    },
    {
     "name": "stdout",
     "output_type": "stream",
     "text": [
      "num sessions 256\n",
      "user embeddings shape (256, 384)\n",
      "sess embeddings shape (256, 332, 384)\n",
      "rnn output shape (256, 332, 512)\n",
      "attention output shape (256, 512)\n",
      "user attention ytime shape (256, 897)\n",
      "dense2 shape (256, 512)\n",
      "dense3 shape (256, 256)\n",
      "logits shape (256, 115720)\n",
      "WARNING:tensorflow:7 out of the last 7 calls to <function TestModel.train_step at 0x7f87d402b1e0> triggered tf.function retracing. Tracing is expensive and the excessive number of tracings is likely due to passing python objects instead of tensors. Also, tf.function has experimental_relax_shapes=True option that relaxes argument shapes that can avoid unnecessary retracing. Please refer to https://www.tensorflow.org/tutorials/customization/performance#python_or_tensor_args and https://www.tensorflow.org/api_docs/python/tf/function for more details.\n"
     ]
    },
    {
     "name": "stderr",
     "output_type": "stream",
     "text": [
      "WARNING:tensorflow:7 out of the last 7 calls to <function TestModel.train_step at 0x7f87d402b1e0> triggered tf.function retracing. Tracing is expensive and the excessive number of tracings is likely due to passing python objects instead of tensors. Also, tf.function has experimental_relax_shapes=True option that relaxes argument shapes that can avoid unnecessary retracing. Please refer to https://www.tensorflow.org/tutorials/customization/performance#python_or_tensor_args and https://www.tensorflow.org/api_docs/python/tf/function for more details.\n"
     ]
    },
    {
     "name": "stdout",
     "output_type": "stream",
     "text": [
      "num sessions 256\n",
      "user embeddings shape (256, 384)\n",
      "sess embeddings shape (256, 204, 384)\n",
      "rnn output shape (256, 204, 512)\n",
      "attention output shape (256, 512)\n",
      "user attention ytime shape (256, 897)\n",
      "dense2 shape (256, 512)\n",
      "dense3 shape (256, 256)\n",
      "logits shape (256, 115720)\n",
      "WARNING:tensorflow:8 out of the last 9 calls to <function TestModel.train_step at 0x7f87d402b1e0> triggered tf.function retracing. Tracing is expensive and the excessive number of tracings is likely due to passing python objects instead of tensors. Also, tf.function has experimental_relax_shapes=True option that relaxes argument shapes that can avoid unnecessary retracing. Please refer to https://www.tensorflow.org/tutorials/customization/performance#python_or_tensor_args and https://www.tensorflow.org/api_docs/python/tf/function for more details.\n"
     ]
    },
    {
     "name": "stderr",
     "output_type": "stream",
     "text": [
      "WARNING:tensorflow:8 out of the last 9 calls to <function TestModel.train_step at 0x7f87d402b1e0> triggered tf.function retracing. Tracing is expensive and the excessive number of tracings is likely due to passing python objects instead of tensors. Also, tf.function has experimental_relax_shapes=True option that relaxes argument shapes that can avoid unnecessary retracing. Please refer to https://www.tensorflow.org/tutorials/customization/performance#python_or_tensor_args and https://www.tensorflow.org/api_docs/python/tf/function for more details.\n"
     ]
    },
    {
     "name": "stdout",
     "output_type": "stream",
     "text": [
      "num sessions 256\n",
      "user embeddings shape (256, 384)\n",
      "sess embeddings shape (256, 252, 384)\n",
      "rnn output shape (256, 252, 512)\n",
      "attention output shape (256, 512)\n",
      "user attention ytime shape (256, 897)\n",
      "dense2 shape (256, 512)\n",
      "dense3 shape (256, 256)\n",
      "logits shape (256, 115720)\n",
      "WARNING:tensorflow:9 out of the last 10 calls to <function TestModel.train_step at 0x7f87d402b1e0> triggered tf.function retracing. Tracing is expensive and the excessive number of tracings is likely due to passing python objects instead of tensors. Also, tf.function has experimental_relax_shapes=True option that relaxes argument shapes that can avoid unnecessary retracing. Please refer to https://www.tensorflow.org/tutorials/customization/performance#python_or_tensor_args and https://www.tensorflow.org/api_docs/python/tf/function for more details.\n"
     ]
    },
    {
     "name": "stderr",
     "output_type": "stream",
     "text": [
      "WARNING:tensorflow:9 out of the last 10 calls to <function TestModel.train_step at 0x7f87d402b1e0> triggered tf.function retracing. Tracing is expensive and the excessive number of tracings is likely due to passing python objects instead of tensors. Also, tf.function has experimental_relax_shapes=True option that relaxes argument shapes that can avoid unnecessary retracing. Please refer to https://www.tensorflow.org/tutorials/customization/performance#python_or_tensor_args and https://www.tensorflow.org/api_docs/python/tf/function for more details.\n"
     ]
    },
    {
     "name": "stdout",
     "output_type": "stream",
     "text": [
      "num sessions 256\n",
      "user embeddings shape (256, 384)\n",
      "sess embeddings shape (256, 428, 384)\n",
      "rnn output shape (256, 428, 512)\n",
      "attention output shape (256, 512)\n",
      "user attention ytime shape (256, 897)\n",
      "dense2 shape (256, 512)\n",
      "dense3 shape (256, 256)\n",
      "logits shape (256, 115720)\n",
      "WARNING:tensorflow:10 out of the last 11 calls to <function TestModel.train_step at 0x7f87d402b1e0> triggered tf.function retracing. Tracing is expensive and the excessive number of tracings is likely due to passing python objects instead of tensors. Also, tf.function has experimental_relax_shapes=True option that relaxes argument shapes that can avoid unnecessary retracing. Please refer to https://www.tensorflow.org/tutorials/customization/performance#python_or_tensor_args and https://www.tensorflow.org/api_docs/python/tf/function for more details.\n"
     ]
    },
    {
     "name": "stderr",
     "output_type": "stream",
     "text": [
      "WARNING:tensorflow:10 out of the last 11 calls to <function TestModel.train_step at 0x7f87d402b1e0> triggered tf.function retracing. Tracing is expensive and the excessive number of tracings is likely due to passing python objects instead of tensors. Also, tf.function has experimental_relax_shapes=True option that relaxes argument shapes that can avoid unnecessary retracing. Please refer to https://www.tensorflow.org/tutorials/customization/performance#python_or_tensor_args and https://www.tensorflow.org/api_docs/python/tf/function for more details.\n"
     ]
    },
    {
     "name": "stdout",
     "output_type": "stream",
     "text": [
      "num sessions 256\n",
      "user embeddings shape (256, 384)\n",
      "sess embeddings shape (256, 340, 384)\n",
      "rnn output shape (256, 340, 512)\n",
      "attention output shape (256, 512)\n",
      "user attention ytime shape (256, 897)\n",
      "dense2 shape (256, 512)\n",
      "dense3 shape (256, 256)\n",
      "logits shape (256, 115720)\n",
      "WARNING:tensorflow:9 out of the last 11 calls to <function TestModel.train_step at 0x7f87d402b1e0> triggered tf.function retracing. Tracing is expensive and the excessive number of tracings is likely due to passing python objects instead of tensors. Also, tf.function has experimental_relax_shapes=True option that relaxes argument shapes that can avoid unnecessary retracing. Please refer to https://www.tensorflow.org/tutorials/customization/performance#python_or_tensor_args and https://www.tensorflow.org/api_docs/python/tf/function for more details.\n"
     ]
    },
    {
     "name": "stderr",
     "output_type": "stream",
     "text": [
      "WARNING:tensorflow:9 out of the last 11 calls to <function TestModel.train_step at 0x7f87d402b1e0> triggered tf.function retracing. Tracing is expensive and the excessive number of tracings is likely due to passing python objects instead of tensors. Also, tf.function has experimental_relax_shapes=True option that relaxes argument shapes that can avoid unnecessary retracing. Please refer to https://www.tensorflow.org/tutorials/customization/performance#python_or_tensor_args and https://www.tensorflow.org/api_docs/python/tf/function for more details.\n"
     ]
    },
    {
     "name": "stdout",
     "output_type": "stream",
     "text": [
      "num sessions 256\n",
      "user embeddings shape (256, 384)\n",
      "sess embeddings shape (256, 348, 384)\n",
      "rnn output shape (256, 348, 512)\n",
      "attention output shape (256, 512)\n",
      "user attention ytime shape (256, 897)\n",
      "dense2 shape (256, 512)\n",
      "dense3 shape (256, 256)\n",
      "logits shape (256, 115720)\n",
      "WARNING:tensorflow:9 out of the last 11 calls to <function TestModel.train_step at 0x7f87d402b1e0> triggered tf.function retracing. Tracing is expensive and the excessive number of tracings is likely due to passing python objects instead of tensors. Also, tf.function has experimental_relax_shapes=True option that relaxes argument shapes that can avoid unnecessary retracing. Please refer to https://www.tensorflow.org/tutorials/customization/performance#python_or_tensor_args and https://www.tensorflow.org/api_docs/python/tf/function for more details.\n"
     ]
    },
    {
     "name": "stderr",
     "output_type": "stream",
     "text": [
      "WARNING:tensorflow:9 out of the last 11 calls to <function TestModel.train_step at 0x7f87d402b1e0> triggered tf.function retracing. Tracing is expensive and the excessive number of tracings is likely due to passing python objects instead of tensors. Also, tf.function has experimental_relax_shapes=True option that relaxes argument shapes that can avoid unnecessary retracing. Please refer to https://www.tensorflow.org/tutorials/customization/performance#python_or_tensor_args and https://www.tensorflow.org/api_docs/python/tf/function for more details.\n"
     ]
    },
    {
     "name": "stdout",
     "output_type": "stream",
     "text": [
      "num sessions 256\n",
      "user embeddings shape (256, 384)\n",
      "sess embeddings shape (256, 376, 384)\n",
      "rnn output shape (256, 376, 512)\n",
      "attention output shape (256, 512)\n",
      "user attention ytime shape (256, 897)\n",
      "dense2 shape (256, 512)\n",
      "dense3 shape (256, 256)\n",
      "logits shape (256, 115720)\n",
      "WARNING:tensorflow:9 out of the last 11 calls to <function TestModel.train_step at 0x7f87d402b1e0> triggered tf.function retracing. Tracing is expensive and the excessive number of tracings is likely due to passing python objects instead of tensors. Also, tf.function has experimental_relax_shapes=True option that relaxes argument shapes that can avoid unnecessary retracing. Please refer to https://www.tensorflow.org/tutorials/customization/performance#python_or_tensor_args and https://www.tensorflow.org/api_docs/python/tf/function for more details.\n"
     ]
    },
    {
     "name": "stderr",
     "output_type": "stream",
     "text": [
      "WARNING:tensorflow:9 out of the last 11 calls to <function TestModel.train_step at 0x7f87d402b1e0> triggered tf.function retracing. Tracing is expensive and the excessive number of tracings is likely due to passing python objects instead of tensors. Also, tf.function has experimental_relax_shapes=True option that relaxes argument shapes that can avoid unnecessary retracing. Please refer to https://www.tensorflow.org/tutorials/customization/performance#python_or_tensor_args and https://www.tensorflow.org/api_docs/python/tf/function for more details.\n"
     ]
    },
    {
     "name": "stdout",
     "output_type": "stream",
     "text": [
      "num sessions 256\n",
      "user embeddings shape (256, 384)\n",
      "sess embeddings shape (256, 260, 384)\n",
      "rnn output shape (256, 260, 512)\n",
      "attention output shape (256, 512)\n",
      "user attention ytime shape (256, 897)\n",
      "dense2 shape (256, 512)\n",
      "dense3 shape (256, 256)\n",
      "logits shape (256, 115720)\n",
      "WARNING:tensorflow:8 out of the last 12 calls to <function TestModel.train_step at 0x7f87d402b1e0> triggered tf.function retracing. Tracing is expensive and the excessive number of tracings is likely due to passing python objects instead of tensors. Also, tf.function has experimental_relax_shapes=True option that relaxes argument shapes that can avoid unnecessary retracing. Please refer to https://www.tensorflow.org/tutorials/customization/performance#python_or_tensor_args and https://www.tensorflow.org/api_docs/python/tf/function for more details.\n"
     ]
    },
    {
     "name": "stderr",
     "output_type": "stream",
     "text": [
      "WARNING:tensorflow:8 out of the last 12 calls to <function TestModel.train_step at 0x7f87d402b1e0> triggered tf.function retracing. Tracing is expensive and the excessive number of tracings is likely due to passing python objects instead of tensors. Also, tf.function has experimental_relax_shapes=True option that relaxes argument shapes that can avoid unnecessary retracing. Please refer to https://www.tensorflow.org/tutorials/customization/performance#python_or_tensor_args and https://www.tensorflow.org/api_docs/python/tf/function for more details.\n"
     ]
    },
    {
     "name": "stdout",
     "output_type": "stream",
     "text": [
      "num sessions 256\n",
      "user embeddings shape (256, 384)\n",
      "sess embeddings shape (256, 224, 384)\n",
      "rnn output shape (256, 224, 512)\n",
      "attention output shape (256, 512)\n",
      "user attention ytime shape (256, 897)\n",
      "dense2 shape (256, 512)\n",
      "dense3 shape (256, 256)\n",
      "logits shape (256, 115720)\n",
      "WARNING:tensorflow:8 out of the last 11 calls to <function TestModel.train_step at 0x7f87d402b1e0> triggered tf.function retracing. Tracing is expensive and the excessive number of tracings is likely due to passing python objects instead of tensors. Also, tf.function has experimental_relax_shapes=True option that relaxes argument shapes that can avoid unnecessary retracing. Please refer to https://www.tensorflow.org/tutorials/customization/performance#python_or_tensor_args and https://www.tensorflow.org/api_docs/python/tf/function for more details.\n"
     ]
    },
    {
     "name": "stderr",
     "output_type": "stream",
     "text": [
      "WARNING:tensorflow:8 out of the last 11 calls to <function TestModel.train_step at 0x7f87d402b1e0> triggered tf.function retracing. Tracing is expensive and the excessive number of tracings is likely due to passing python objects instead of tensors. Also, tf.function has experimental_relax_shapes=True option that relaxes argument shapes that can avoid unnecessary retracing. Please refer to https://www.tensorflow.org/tutorials/customization/performance#python_or_tensor_args and https://www.tensorflow.org/api_docs/python/tf/function for more details.\n"
     ]
    },
    {
     "name": "stdout",
     "output_type": "stream",
     "text": [
      "num sessions 256\n",
      "user embeddings shape (256, 384)\n",
      "sess embeddings shape (256, 372, 384)\n",
      "rnn output shape (256, 372, 512)\n",
      "attention output shape (256, 512)\n",
      "user attention ytime shape (256, 897)\n",
      "dense2 shape (256, 512)\n",
      "dense3 shape (256, 256)\n",
      "logits shape (256, 115720)\n",
      "WARNING:tensorflow:8 out of the last 11 calls to <function TestModel.train_step at 0x7f87d402b1e0> triggered tf.function retracing. Tracing is expensive and the excessive number of tracings is likely due to passing python objects instead of tensors. Also, tf.function has experimental_relax_shapes=True option that relaxes argument shapes that can avoid unnecessary retracing. Please refer to https://www.tensorflow.org/tutorials/customization/performance#python_or_tensor_args and https://www.tensorflow.org/api_docs/python/tf/function for more details.\n"
     ]
    },
    {
     "name": "stderr",
     "output_type": "stream",
     "text": [
      "WARNING:tensorflow:8 out of the last 11 calls to <function TestModel.train_step at 0x7f87d402b1e0> triggered tf.function retracing. Tracing is expensive and the excessive number of tracings is likely due to passing python objects instead of tensors. Also, tf.function has experimental_relax_shapes=True option that relaxes argument shapes that can avoid unnecessary retracing. Please refer to https://www.tensorflow.org/tutorials/customization/performance#python_or_tensor_args and https://www.tensorflow.org/api_docs/python/tf/function for more details.\n"
     ]
    },
    {
     "name": "stdout",
     "output_type": "stream",
     "text": [
      "num sessions 256\n",
      "user embeddings shape (256, 384)\n",
      "sess embeddings shape (256, 264, 384)\n",
      "rnn output shape (256, 264, 512)\n",
      "attention output shape (256, 512)\n",
      "user attention ytime shape (256, 897)\n",
      "dense2 shape (256, 512)\n",
      "dense3 shape (256, 256)\n",
      "logits shape (256, 115720)\n",
      "WARNING:tensorflow:8 out of the last 11 calls to <function TestModel.train_step at 0x7f87d402b1e0> triggered tf.function retracing. Tracing is expensive and the excessive number of tracings is likely due to passing python objects instead of tensors. Also, tf.function has experimental_relax_shapes=True option that relaxes argument shapes that can avoid unnecessary retracing. Please refer to https://www.tensorflow.org/tutorials/customization/performance#python_or_tensor_args and https://www.tensorflow.org/api_docs/python/tf/function for more details.\n"
     ]
    },
    {
     "name": "stderr",
     "output_type": "stream",
     "text": [
      "WARNING:tensorflow:8 out of the last 11 calls to <function TestModel.train_step at 0x7f87d402b1e0> triggered tf.function retracing. Tracing is expensive and the excessive number of tracings is likely due to passing python objects instead of tensors. Also, tf.function has experimental_relax_shapes=True option that relaxes argument shapes that can avoid unnecessary retracing. Please refer to https://www.tensorflow.org/tutorials/customization/performance#python_or_tensor_args and https://www.tensorflow.org/api_docs/python/tf/function for more details.\n"
     ]
    },
    {
     "name": "stdout",
     "output_type": "stream",
     "text": [
      "num sessions 256\n",
      "user embeddings shape (256, 384)\n",
      "sess embeddings shape (256, 316, 384)\n",
      "rnn output shape (256, 316, 512)\n",
      "attention output shape (256, 512)\n",
      "user attention ytime shape (256, 897)\n",
      "dense2 shape (256, 512)\n",
      "dense3 shape (256, 256)\n",
      "logits shape (256, 115720)\n",
      "WARNING:tensorflow:9 out of the last 12 calls to <function TestModel.train_step at 0x7f87d402b1e0> triggered tf.function retracing. Tracing is expensive and the excessive number of tracings is likely due to passing python objects instead of tensors. Also, tf.function has experimental_relax_shapes=True option that relaxes argument shapes that can avoid unnecessary retracing. Please refer to https://www.tensorflow.org/tutorials/customization/performance#python_or_tensor_args and https://www.tensorflow.org/api_docs/python/tf/function for more details.\n"
     ]
    },
    {
     "name": "stderr",
     "output_type": "stream",
     "text": [
      "WARNING:tensorflow:9 out of the last 12 calls to <function TestModel.train_step at 0x7f87d402b1e0> triggered tf.function retracing. Tracing is expensive and the excessive number of tracings is likely due to passing python objects instead of tensors. Also, tf.function has experimental_relax_shapes=True option that relaxes argument shapes that can avoid unnecessary retracing. Please refer to https://www.tensorflow.org/tutorials/customization/performance#python_or_tensor_args and https://www.tensorflow.org/api_docs/python/tf/function for more details.\n"
     ]
    },
    {
     "name": "stdout",
     "output_type": "stream",
     "text": [
      "num sessions 256\n",
      "user embeddings shape (256, 384)\n",
      "sess embeddings shape (256, 380, 384)\n",
      "rnn output shape (256, 380, 512)\n",
      "attention output shape (256, 512)\n",
      "user attention ytime shape (256, 897)\n",
      "dense2 shape (256, 512)\n",
      "dense3 shape (256, 256)\n",
      "logits shape (256, 115720)\n",
      "WARNING:tensorflow:9 out of the last 11 calls to <function TestModel.train_step at 0x7f87d402b1e0> triggered tf.function retracing. Tracing is expensive and the excessive number of tracings is likely due to passing python objects instead of tensors. Also, tf.function has experimental_relax_shapes=True option that relaxes argument shapes that can avoid unnecessary retracing. Please refer to https://www.tensorflow.org/tutorials/customization/performance#python_or_tensor_args and https://www.tensorflow.org/api_docs/python/tf/function for more details.\n"
     ]
    },
    {
     "name": "stderr",
     "output_type": "stream",
     "text": [
      "WARNING:tensorflow:9 out of the last 11 calls to <function TestModel.train_step at 0x7f87d402b1e0> triggered tf.function retracing. Tracing is expensive and the excessive number of tracings is likely due to passing python objects instead of tensors. Also, tf.function has experimental_relax_shapes=True option that relaxes argument shapes that can avoid unnecessary retracing. Please refer to https://www.tensorflow.org/tutorials/customization/performance#python_or_tensor_args and https://www.tensorflow.org/api_docs/python/tf/function for more details.\n"
     ]
    },
    {
     "name": "stdout",
     "output_type": "stream",
     "text": [
      "num sessions 256\n",
      "user embeddings shape (256, 384)\n",
      "sess embeddings shape (256, 276, 384)\n",
      "rnn output shape (256, 276, 512)\n",
      "attention output shape (256, 512)\n",
      "user attention ytime shape (256, 897)\n",
      "dense2 shape (256, 512)\n",
      "dense3 shape (256, 256)\n",
      "logits shape (256, 115720)\n",
      "WARNING:tensorflow:9 out of the last 11 calls to <function TestModel.train_step at 0x7f87d402b1e0> triggered tf.function retracing. Tracing is expensive and the excessive number of tracings is likely due to passing python objects instead of tensors. Also, tf.function has experimental_relax_shapes=True option that relaxes argument shapes that can avoid unnecessary retracing. Please refer to https://www.tensorflow.org/tutorials/customization/performance#python_or_tensor_args and https://www.tensorflow.org/api_docs/python/tf/function for more details.\n"
     ]
    },
    {
     "name": "stderr",
     "output_type": "stream",
     "text": [
      "WARNING:tensorflow:9 out of the last 11 calls to <function TestModel.train_step at 0x7f87d402b1e0> triggered tf.function retracing. Tracing is expensive and the excessive number of tracings is likely due to passing python objects instead of tensors. Also, tf.function has experimental_relax_shapes=True option that relaxes argument shapes that can avoid unnecessary retracing. Please refer to https://www.tensorflow.org/tutorials/customization/performance#python_or_tensor_args and https://www.tensorflow.org/api_docs/python/tf/function for more details.\n"
     ]
    },
    {
     "name": "stdout",
     "output_type": "stream",
     "text": [
      "num sessions 256\n",
      "user embeddings shape (256, 384)\n",
      "sess embeddings shape (256, 184, 384)\n",
      "rnn output shape (256, 184, 512)\n",
      "attention output shape (256, 512)\n",
      "user attention ytime shape (256, 897)\n",
      "dense2 shape (256, 512)\n",
      "dense3 shape (256, 256)\n",
      "logits shape (256, 115720)\n",
      "WARNING:tensorflow:9 out of the last 11 calls to <function TestModel.train_step at 0x7f87d402b1e0> triggered tf.function retracing. Tracing is expensive and the excessive number of tracings is likely due to passing python objects instead of tensors. Also, tf.function has experimental_relax_shapes=True option that relaxes argument shapes that can avoid unnecessary retracing. Please refer to https://www.tensorflow.org/tutorials/customization/performance#python_or_tensor_args and https://www.tensorflow.org/api_docs/python/tf/function for more details.\n"
     ]
    },
    {
     "name": "stderr",
     "output_type": "stream",
     "text": [
      "WARNING:tensorflow:9 out of the last 11 calls to <function TestModel.train_step at 0x7f87d402b1e0> triggered tf.function retracing. Tracing is expensive and the excessive number of tracings is likely due to passing python objects instead of tensors. Also, tf.function has experimental_relax_shapes=True option that relaxes argument shapes that can avoid unnecessary retracing. Please refer to https://www.tensorflow.org/tutorials/customization/performance#python_or_tensor_args and https://www.tensorflow.org/api_docs/python/tf/function for more details.\n"
     ]
    },
    {
     "name": "stdout",
     "output_type": "stream",
     "text": [
      "num sessions 256\n",
      "user embeddings shape (256, 384)\n",
      "sess embeddings shape (256, 248, 384)\n",
      "rnn output shape (256, 248, 512)\n",
      "attention output shape (256, 512)\n",
      "user attention ytime shape (256, 897)\n",
      "dense2 shape (256, 512)\n",
      "dense3 shape (256, 256)\n",
      "logits shape (256, 115720)\n",
      "WARNING:tensorflow:10 out of the last 12 calls to <function TestModel.train_step at 0x7f87d402b1e0> triggered tf.function retracing. Tracing is expensive and the excessive number of tracings is likely due to passing python objects instead of tensors. Also, tf.function has experimental_relax_shapes=True option that relaxes argument shapes that can avoid unnecessary retracing. Please refer to https://www.tensorflow.org/tutorials/customization/performance#python_or_tensor_args and https://www.tensorflow.org/api_docs/python/tf/function for more details.\n"
     ]
    },
    {
     "name": "stderr",
     "output_type": "stream",
     "text": [
      "WARNING:tensorflow:10 out of the last 12 calls to <function TestModel.train_step at 0x7f87d402b1e0> triggered tf.function retracing. Tracing is expensive and the excessive number of tracings is likely due to passing python objects instead of tensors. Also, tf.function has experimental_relax_shapes=True option that relaxes argument shapes that can avoid unnecessary retracing. Please refer to https://www.tensorflow.org/tutorials/customization/performance#python_or_tensor_args and https://www.tensorflow.org/api_docs/python/tf/function for more details.\n"
     ]
    },
    {
     "name": "stdout",
     "output_type": "stream",
     "text": [
      "num sessions 256\n",
      "user embeddings shape (256, 384)\n",
      "sess embeddings shape (256, 200, 384)\n",
      "rnn output shape (256, 200, 512)\n",
      "attention output shape (256, 512)\n",
      "user attention ytime shape (256, 897)\n",
      "dense2 shape (256, 512)\n",
      "dense3 shape (256, 256)\n",
      "logits shape (256, 115720)\n",
      "WARNING:tensorflow:11 out of the last 13 calls to <function TestModel.train_step at 0x7f87d402b1e0> triggered tf.function retracing. Tracing is expensive and the excessive number of tracings is likely due to passing python objects instead of tensors. Also, tf.function has experimental_relax_shapes=True option that relaxes argument shapes that can avoid unnecessary retracing. Please refer to https://www.tensorflow.org/tutorials/customization/performance#python_or_tensor_args and https://www.tensorflow.org/api_docs/python/tf/function for more details.\n"
     ]
    },
    {
     "name": "stderr",
     "output_type": "stream",
     "text": [
      "WARNING:tensorflow:11 out of the last 13 calls to <function TestModel.train_step at 0x7f87d402b1e0> triggered tf.function retracing. Tracing is expensive and the excessive number of tracings is likely due to passing python objects instead of tensors. Also, tf.function has experimental_relax_shapes=True option that relaxes argument shapes that can avoid unnecessary retracing. Please refer to https://www.tensorflow.org/tutorials/customization/performance#python_or_tensor_args and https://www.tensorflow.org/api_docs/python/tf/function for more details.\n"
     ]
    },
    {
     "name": "stdout",
     "output_type": "stream",
     "text": [
      "num sessions 256\n",
      "user embeddings shape (256, 384)\n",
      "sess embeddings shape (256, 400, 384)\n",
      "rnn output shape (256, 400, 512)\n",
      "attention output shape (256, 512)\n",
      "user attention ytime shape (256, 897)\n",
      "dense2 shape (256, 512)\n",
      "dense3 shape (256, 256)\n",
      "logits shape (256, 115720)\n",
      "WARNING:tensorflow:11 out of the last 11 calls to <function TestModel.train_step at 0x7f87d402b1e0> triggered tf.function retracing. Tracing is expensive and the excessive number of tracings is likely due to passing python objects instead of tensors. Also, tf.function has experimental_relax_shapes=True option that relaxes argument shapes that can avoid unnecessary retracing. Please refer to https://www.tensorflow.org/tutorials/customization/performance#python_or_tensor_args and https://www.tensorflow.org/api_docs/python/tf/function for more details.\n"
     ]
    },
    {
     "name": "stderr",
     "output_type": "stream",
     "text": [
      "WARNING:tensorflow:11 out of the last 11 calls to <function TestModel.train_step at 0x7f87d402b1e0> triggered tf.function retracing. Tracing is expensive and the excessive number of tracings is likely due to passing python objects instead of tensors. Also, tf.function has experimental_relax_shapes=True option that relaxes argument shapes that can avoid unnecessary retracing. Please refer to https://www.tensorflow.org/tutorials/customization/performance#python_or_tensor_args and https://www.tensorflow.org/api_docs/python/tf/function for more details.\n"
     ]
    },
    {
     "name": "stdout",
     "output_type": "stream",
     "text": [
      "num sessions 256\n",
      "user embeddings shape (256, 384)\n",
      "sess embeddings shape (256, 408, 384)\n",
      "rnn output shape (256, 408, 512)\n",
      "attention output shape (256, 512)\n",
      "user attention ytime shape (256, 897)\n",
      "dense2 shape (256, 512)\n",
      "dense3 shape (256, 256)\n",
      "logits shape (256, 115720)\n",
      "WARNING:tensorflow:10 out of the last 11 calls to <function TestModel.train_step at 0x7f87d402b1e0> triggered tf.function retracing. Tracing is expensive and the excessive number of tracings is likely due to passing python objects instead of tensors. Also, tf.function has experimental_relax_shapes=True option that relaxes argument shapes that can avoid unnecessary retracing. Please refer to https://www.tensorflow.org/tutorials/customization/performance#python_or_tensor_args and https://www.tensorflow.org/api_docs/python/tf/function for more details.\n"
     ]
    },
    {
     "name": "stderr",
     "output_type": "stream",
     "text": [
      "WARNING:tensorflow:10 out of the last 11 calls to <function TestModel.train_step at 0x7f87d402b1e0> triggered tf.function retracing. Tracing is expensive and the excessive number of tracings is likely due to passing python objects instead of tensors. Also, tf.function has experimental_relax_shapes=True option that relaxes argument shapes that can avoid unnecessary retracing. Please refer to https://www.tensorflow.org/tutorials/customization/performance#python_or_tensor_args and https://www.tensorflow.org/api_docs/python/tf/function for more details.\n"
     ]
    },
    {
     "name": "stdout",
     "output_type": "stream",
     "text": [
      "num sessions 256\n",
      "user embeddings shape (256, 384)\n",
      "sess embeddings shape (256, 268, 384)\n",
      "rnn output shape (256, 268, 512)\n",
      "attention output shape (256, 512)\n",
      "user attention ytime shape (256, 897)\n",
      "dense2 shape (256, 512)\n",
      "dense3 shape (256, 256)\n",
      "logits shape (256, 115720)\n",
      "WARNING:tensorflow:10 out of the last 11 calls to <function TestModel.train_step at 0x7f87d402b1e0> triggered tf.function retracing. Tracing is expensive and the excessive number of tracings is likely due to passing python objects instead of tensors. Also, tf.function has experimental_relax_shapes=True option that relaxes argument shapes that can avoid unnecessary retracing. Please refer to https://www.tensorflow.org/tutorials/customization/performance#python_or_tensor_args and https://www.tensorflow.org/api_docs/python/tf/function for more details.\n"
     ]
    },
    {
     "name": "stderr",
     "output_type": "stream",
     "text": [
      "WARNING:tensorflow:10 out of the last 11 calls to <function TestModel.train_step at 0x7f87d402b1e0> triggered tf.function retracing. Tracing is expensive and the excessive number of tracings is likely due to passing python objects instead of tensors. Also, tf.function has experimental_relax_shapes=True option that relaxes argument shapes that can avoid unnecessary retracing. Please refer to https://www.tensorflow.org/tutorials/customization/performance#python_or_tensor_args and https://www.tensorflow.org/api_docs/python/tf/function for more details.\n"
     ]
    },
    {
     "name": "stdout",
     "output_type": "stream",
     "text": [
      "num sessions 256\n",
      "user embeddings shape (256, 384)\n",
      "sess embeddings shape (256, 212, 384)\n",
      "rnn output shape (256, 212, 512)\n",
      "attention output shape (256, 512)\n",
      "user attention ytime shape (256, 897)\n",
      "dense2 shape (256, 512)\n",
      "dense3 shape (256, 256)\n",
      "logits shape (256, 115720)\n",
      "WARNING:tensorflow:8 out of the last 11 calls to <function TestModel.train_step at 0x7f87d402b1e0> triggered tf.function retracing. Tracing is expensive and the excessive number of tracings is likely due to passing python objects instead of tensors. Also, tf.function has experimental_relax_shapes=True option that relaxes argument shapes that can avoid unnecessary retracing. Please refer to https://www.tensorflow.org/tutorials/customization/performance#python_or_tensor_args and https://www.tensorflow.org/api_docs/python/tf/function for more details.\n"
     ]
    },
    {
     "name": "stderr",
     "output_type": "stream",
     "text": [
      "WARNING:tensorflow:8 out of the last 11 calls to <function TestModel.train_step at 0x7f87d402b1e0> triggered tf.function retracing. Tracing is expensive and the excessive number of tracings is likely due to passing python objects instead of tensors. Also, tf.function has experimental_relax_shapes=True option that relaxes argument shapes that can avoid unnecessary retracing. Please refer to https://www.tensorflow.org/tutorials/customization/performance#python_or_tensor_args and https://www.tensorflow.org/api_docs/python/tf/function for more details.\n"
     ]
    },
    {
     "name": "stdout",
     "output_type": "stream",
     "text": [
      "num sessions 256\n",
      "user embeddings shape (256, 384)\n",
      "sess embeddings shape (256, 344, 384)\n",
      "rnn output shape (256, 344, 512)\n",
      "attention output shape (256, 512)\n",
      "user attention ytime shape (256, 897)\n",
      "dense2 shape (256, 512)\n",
      "dense3 shape (256, 256)\n",
      "logits shape (256, 115720)\n",
      "WARNING:tensorflow:6 out of the last 11 calls to <function TestModel.train_step at 0x7f87d402b1e0> triggered tf.function retracing. Tracing is expensive and the excessive number of tracings is likely due to passing python objects instead of tensors. Also, tf.function has experimental_relax_shapes=True option that relaxes argument shapes that can avoid unnecessary retracing. Please refer to https://www.tensorflow.org/tutorials/customization/performance#python_or_tensor_args and https://www.tensorflow.org/api_docs/python/tf/function for more details.\n"
     ]
    },
    {
     "name": "stderr",
     "output_type": "stream",
     "text": [
      "WARNING:tensorflow:6 out of the last 11 calls to <function TestModel.train_step at 0x7f87d402b1e0> triggered tf.function retracing. Tracing is expensive and the excessive number of tracings is likely due to passing python objects instead of tensors. Also, tf.function has experimental_relax_shapes=True option that relaxes argument shapes that can avoid unnecessary retracing. Please refer to https://www.tensorflow.org/tutorials/customization/performance#python_or_tensor_args and https://www.tensorflow.org/api_docs/python/tf/function for more details.\n"
     ]
    },
    {
     "name": "stdout",
     "output_type": "stream",
     "text": [
      "num sessions 256\n",
      "user embeddings shape (256, 384)\n",
      "sess embeddings shape (256, 384, 384)\n",
      "rnn output shape (256, 384, 512)\n",
      "attention output shape (256, 512)\n",
      "user attention ytime shape (256, 897)\n",
      "dense2 shape (256, 512)\n",
      "dense3 shape (256, 256)\n",
      "logits shape (256, 115720)\n",
      "WARNING:tensorflow:6 out of the last 11 calls to <function TestModel.train_step at 0x7f87d402b1e0> triggered tf.function retracing. Tracing is expensive and the excessive number of tracings is likely due to passing python objects instead of tensors. Also, tf.function has experimental_relax_shapes=True option that relaxes argument shapes that can avoid unnecessary retracing. Please refer to https://www.tensorflow.org/tutorials/customization/performance#python_or_tensor_args and https://www.tensorflow.org/api_docs/python/tf/function for more details.\n"
     ]
    },
    {
     "name": "stderr",
     "output_type": "stream",
     "text": [
      "WARNING:tensorflow:6 out of the last 11 calls to <function TestModel.train_step at 0x7f87d402b1e0> triggered tf.function retracing. Tracing is expensive and the excessive number of tracings is likely due to passing python objects instead of tensors. Also, tf.function has experimental_relax_shapes=True option that relaxes argument shapes that can avoid unnecessary retracing. Please refer to https://www.tensorflow.org/tutorials/customization/performance#python_or_tensor_args and https://www.tensorflow.org/api_docs/python/tf/function for more details.\n"
     ]
    },
    {
     "name": "stdout",
     "output_type": "stream",
     "text": [
      "num sessions 256\n",
      "user embeddings shape (256, 384)\n",
      "sess embeddings shape (256, 324, 384)\n",
      "rnn output shape (256, 324, 512)\n",
      "attention output shape (256, 512)\n",
      "user attention ytime shape (256, 897)\n",
      "dense2 shape (256, 512)\n",
      "dense3 shape (256, 256)\n",
      "logits shape (256, 115720)\n",
      "WARNING:tensorflow:7 out of the last 12 calls to <function TestModel.train_step at 0x7f87d402b1e0> triggered tf.function retracing. Tracing is expensive and the excessive number of tracings is likely due to passing python objects instead of tensors. Also, tf.function has experimental_relax_shapes=True option that relaxes argument shapes that can avoid unnecessary retracing. Please refer to https://www.tensorflow.org/tutorials/customization/performance#python_or_tensor_args and https://www.tensorflow.org/api_docs/python/tf/function for more details.\n"
     ]
    },
    {
     "name": "stderr",
     "output_type": "stream",
     "text": [
      "WARNING:tensorflow:7 out of the last 12 calls to <function TestModel.train_step at 0x7f87d402b1e0> triggered tf.function retracing. Tracing is expensive and the excessive number of tracings is likely due to passing python objects instead of tensors. Also, tf.function has experimental_relax_shapes=True option that relaxes argument shapes that can avoid unnecessary retracing. Please refer to https://www.tensorflow.org/tutorials/customization/performance#python_or_tensor_args and https://www.tensorflow.org/api_docs/python/tf/function for more details.\n"
     ]
    },
    {
     "name": "stdout",
     "output_type": "stream",
     "text": [
      "num sessions 256\n",
      "user embeddings shape (256, 384)\n",
      "sess embeddings shape (256, 296, 384)\n",
      "rnn output shape (256, 296, 512)\n",
      "attention output shape (256, 512)\n",
      "user attention ytime shape (256, 897)\n",
      "dense2 shape (256, 512)\n",
      "dense3 shape (256, 256)\n",
      "logits shape (256, 115720)\n",
      "WARNING:tensorflow:6 out of the last 11 calls to <function TestModel.train_step at 0x7f87d402b1e0> triggered tf.function retracing. Tracing is expensive and the excessive number of tracings is likely due to passing python objects instead of tensors. Also, tf.function has experimental_relax_shapes=True option that relaxes argument shapes that can avoid unnecessary retracing. Please refer to https://www.tensorflow.org/tutorials/customization/performance#python_or_tensor_args and https://www.tensorflow.org/api_docs/python/tf/function for more details.\n"
     ]
    },
    {
     "name": "stderr",
     "output_type": "stream",
     "text": [
      "WARNING:tensorflow:6 out of the last 11 calls to <function TestModel.train_step at 0x7f87d402b1e0> triggered tf.function retracing. Tracing is expensive and the excessive number of tracings is likely due to passing python objects instead of tensors. Also, tf.function has experimental_relax_shapes=True option that relaxes argument shapes that can avoid unnecessary retracing. Please refer to https://www.tensorflow.org/tutorials/customization/performance#python_or_tensor_args and https://www.tensorflow.org/api_docs/python/tf/function for more details.\n"
     ]
    },
    {
     "name": "stdout",
     "output_type": "stream",
     "text": [
      "num sessions 256\n",
      "user embeddings shape (256, 384)\n",
      "sess embeddings shape (256, 300, 384)\n",
      "rnn output shape (256, 300, 512)\n",
      "attention output shape (256, 512)\n",
      "user attention ytime shape (256, 897)\n",
      "dense2 shape (256, 512)\n",
      "dense3 shape (256, 256)\n",
      "logits shape (256, 115720)\n",
      "WARNING:tensorflow:7 out of the last 13 calls to <function TestModel.train_step at 0x7f87d402b1e0> triggered tf.function retracing. Tracing is expensive and the excessive number of tracings is likely due to passing python objects instead of tensors. Also, tf.function has experimental_relax_shapes=True option that relaxes argument shapes that can avoid unnecessary retracing. Please refer to https://www.tensorflow.org/tutorials/customization/performance#python_or_tensor_args and https://www.tensorflow.org/api_docs/python/tf/function for more details.\n"
     ]
    },
    {
     "name": "stderr",
     "output_type": "stream",
     "text": [
      "WARNING:tensorflow:7 out of the last 13 calls to <function TestModel.train_step at 0x7f87d402b1e0> triggered tf.function retracing. Tracing is expensive and the excessive number of tracings is likely due to passing python objects instead of tensors. Also, tf.function has experimental_relax_shapes=True option that relaxes argument shapes that can avoid unnecessary retracing. Please refer to https://www.tensorflow.org/tutorials/customization/performance#python_or_tensor_args and https://www.tensorflow.org/api_docs/python/tf/function for more details.\n"
     ]
    },
    {
     "name": "stdout",
     "output_type": "stream",
     "text": [
      "num sessions 256\n",
      "user embeddings shape (256, 384)\n",
      "sess embeddings shape (256, 220, 384)\n",
      "rnn output shape (256, 220, 512)\n",
      "attention output shape (256, 512)\n",
      "user attention ytime shape (256, 897)\n",
      "dense2 shape (256, 512)\n",
      "dense3 shape (256, 256)\n",
      "logits shape (256, 115720)\n",
      "WARNING:tensorflow:7 out of the last 11 calls to <function TestModel.train_step at 0x7f87d402b1e0> triggered tf.function retracing. Tracing is expensive and the excessive number of tracings is likely due to passing python objects instead of tensors. Also, tf.function has experimental_relax_shapes=True option that relaxes argument shapes that can avoid unnecessary retracing. Please refer to https://www.tensorflow.org/tutorials/customization/performance#python_or_tensor_args and https://www.tensorflow.org/api_docs/python/tf/function for more details.\n"
     ]
    },
    {
     "name": "stderr",
     "output_type": "stream",
     "text": [
      "WARNING:tensorflow:7 out of the last 11 calls to <function TestModel.train_step at 0x7f87d402b1e0> triggered tf.function retracing. Tracing is expensive and the excessive number of tracings is likely due to passing python objects instead of tensors. Also, tf.function has experimental_relax_shapes=True option that relaxes argument shapes that can avoid unnecessary retracing. Please refer to https://www.tensorflow.org/tutorials/customization/performance#python_or_tensor_args and https://www.tensorflow.org/api_docs/python/tf/function for more details.\n"
     ]
    },
    {
     "name": "stdout",
     "output_type": "stream",
     "text": [
      "num sessions 256\n",
      "user embeddings shape (256, 384)\n",
      "sess embeddings shape (256, 464, 384)\n",
      "rnn output shape (256, 464, 512)\n",
      "attention output shape (256, 512)\n",
      "user attention ytime shape (256, 897)\n",
      "dense2 shape (256, 512)\n",
      "dense3 shape (256, 256)\n",
      "logits shape (256, 115720)\n",
      "WARNING:tensorflow:8 out of the last 12 calls to <function TestModel.train_step at 0x7f87d402b1e0> triggered tf.function retracing. Tracing is expensive and the excessive number of tracings is likely due to passing python objects instead of tensors. Also, tf.function has experimental_relax_shapes=True option that relaxes argument shapes that can avoid unnecessary retracing. Please refer to https://www.tensorflow.org/tutorials/customization/performance#python_or_tensor_args and https://www.tensorflow.org/api_docs/python/tf/function for more details.\n"
     ]
    },
    {
     "name": "stderr",
     "output_type": "stream",
     "text": [
      "WARNING:tensorflow:8 out of the last 12 calls to <function TestModel.train_step at 0x7f87d402b1e0> triggered tf.function retracing. Tracing is expensive and the excessive number of tracings is likely due to passing python objects instead of tensors. Also, tf.function has experimental_relax_shapes=True option that relaxes argument shapes that can avoid unnecessary retracing. Please refer to https://www.tensorflow.org/tutorials/customization/performance#python_or_tensor_args and https://www.tensorflow.org/api_docs/python/tf/function for more details.\n"
     ]
    },
    {
     "name": "stdout",
     "output_type": "stream",
     "text": [
      "num sessions 256\n",
      "user embeddings shape (256, 384)\n",
      "sess embeddings shape (256, 312, 384)\n",
      "rnn output shape (256, 312, 512)\n",
      "attention output shape (256, 512)\n",
      "user attention ytime shape (256, 897)\n",
      "dense2 shape (256, 512)\n",
      "dense3 shape (256, 256)\n",
      "logits shape (256, 115720)\n",
      "WARNING:tensorflow:7 out of the last 11 calls to <function TestModel.train_step at 0x7f87d402b1e0> triggered tf.function retracing. Tracing is expensive and the excessive number of tracings is likely due to passing python objects instead of tensors. Also, tf.function has experimental_relax_shapes=True option that relaxes argument shapes that can avoid unnecessary retracing. Please refer to https://www.tensorflow.org/tutorials/customization/performance#python_or_tensor_args and https://www.tensorflow.org/api_docs/python/tf/function for more details.\n"
     ]
    },
    {
     "name": "stderr",
     "output_type": "stream",
     "text": [
      "WARNING:tensorflow:7 out of the last 11 calls to <function TestModel.train_step at 0x7f87d402b1e0> triggered tf.function retracing. Tracing is expensive and the excessive number of tracings is likely due to passing python objects instead of tensors. Also, tf.function has experimental_relax_shapes=True option that relaxes argument shapes that can avoid unnecessary retracing. Please refer to https://www.tensorflow.org/tutorials/customization/performance#python_or_tensor_args and https://www.tensorflow.org/api_docs/python/tf/function for more details.\n"
     ]
    },
    {
     "name": "stdout",
     "output_type": "stream",
     "text": [
      "num sessions 256\n",
      "user embeddings shape (256, 384)\n",
      "sess embeddings shape (256, 256, 384)\n",
      "rnn output shape (256, 256, 512)\n",
      "attention output shape (256, 512)\n",
      "user attention ytime shape (256, 897)\n",
      "dense2 shape (256, 512)\n",
      "dense3 shape (256, 256)\n",
      "logits shape (256, 115720)\n",
      "num sessions 256\n",
      "user embeddings shape (256, 384)\n",
      "sess embeddings shape (256, 272, 384)\n",
      "rnn output shape (256, 272, 512)\n",
      "attention output shape (256, 512)\n",
      "user attention ytime shape (256, 897)\n",
      "dense2 shape (256, 512)\n",
      "dense3 shape (256, 256)\n",
      "logits shape (256, 115720)\n",
      "num sessions 256\n",
      "user embeddings shape (256, 384)\n",
      "sess embeddings shape (256, 356, 384)\n",
      "rnn output shape (256, 356, 512)\n",
      "attention output shape (256, 512)\n",
      "user attention ytime shape (256, 897)\n",
      "dense2 shape (256, 512)\n",
      "dense3 shape (256, 256)\n",
      "logits shape (256, 115720)\n",
      "num sessions 256\n",
      "user embeddings shape (256, 384)\n",
      "sess embeddings shape (256, 292, 384)\n",
      "rnn output shape (256, 292, 512)\n",
      "attention output shape (256, 512)\n",
      "user attention ytime shape (256, 897)\n",
      "dense2 shape (256, 512)\n",
      "dense3 shape (256, 256)\n",
      "logits shape (256, 115720)\n",
      "WARNING:tensorflow:5 out of the last 16 calls to <function TestModel.train_step at 0x7f87d402b1e0> triggered tf.function retracing. Tracing is expensive and the excessive number of tracings is likely due to passing python objects instead of tensors. Also, tf.function has experimental_relax_shapes=True option that relaxes argument shapes that can avoid unnecessary retracing. Please refer to https://www.tensorflow.org/tutorials/customization/performance#python_or_tensor_args and https://www.tensorflow.org/api_docs/python/tf/function for more details.\n"
     ]
    },
    {
     "name": "stderr",
     "output_type": "stream",
     "text": [
      "WARNING:tensorflow:5 out of the last 16 calls to <function TestModel.train_step at 0x7f87d402b1e0> triggered tf.function retracing. Tracing is expensive and the excessive number of tracings is likely due to passing python objects instead of tensors. Also, tf.function has experimental_relax_shapes=True option that relaxes argument shapes that can avoid unnecessary retracing. Please refer to https://www.tensorflow.org/tutorials/customization/performance#python_or_tensor_args and https://www.tensorflow.org/api_docs/python/tf/function for more details.\n"
     ]
    },
    {
     "name": "stdout",
     "output_type": "stream",
     "text": [
      "num sessions 256\n",
      "user embeddings shape (256, 384)\n",
      "sess embeddings shape (256, 364, 384)\n",
      "rnn output shape (256, 364, 512)\n",
      "attention output shape (256, 512)\n",
      "user attention ytime shape (256, 897)\n",
      "dense2 shape (256, 512)\n",
      "dense3 shape (256, 256)\n",
      "logits shape (256, 115720)\n",
      "WARNING:tensorflow:5 out of the last 11 calls to <function TestModel.train_step at 0x7f87d402b1e0> triggered tf.function retracing. Tracing is expensive and the excessive number of tracings is likely due to passing python objects instead of tensors. Also, tf.function has experimental_relax_shapes=True option that relaxes argument shapes that can avoid unnecessary retracing. Please refer to https://www.tensorflow.org/tutorials/customization/performance#python_or_tensor_args and https://www.tensorflow.org/api_docs/python/tf/function for more details.\n"
     ]
    },
    {
     "name": "stderr",
     "output_type": "stream",
     "text": [
      "WARNING:tensorflow:5 out of the last 11 calls to <function TestModel.train_step at 0x7f87d402b1e0> triggered tf.function retracing. Tracing is expensive and the excessive number of tracings is likely due to passing python objects instead of tensors. Also, tf.function has experimental_relax_shapes=True option that relaxes argument shapes that can avoid unnecessary retracing. Please refer to https://www.tensorflow.org/tutorials/customization/performance#python_or_tensor_args and https://www.tensorflow.org/api_docs/python/tf/function for more details.\n"
     ]
    },
    {
     "name": "stdout",
     "output_type": "stream",
     "text": [
      "num sessions 256\n",
      "user embeddings shape (256, 384)\n",
      "sess embeddings shape (256, 388, 384)\n",
      "rnn output shape (256, 388, 512)\n",
      "attention output shape (256, 512)\n",
      "user attention ytime shape (256, 897)\n",
      "dense2 shape (256, 512)\n",
      "dense3 shape (256, 256)\n",
      "logits shape (256, 115720)\n",
      "WARNING:tensorflow:5 out of the last 13 calls to <function TestModel.train_step at 0x7f87d402b1e0> triggered tf.function retracing. Tracing is expensive and the excessive number of tracings is likely due to passing python objects instead of tensors. Also, tf.function has experimental_relax_shapes=True option that relaxes argument shapes that can avoid unnecessary retracing. Please refer to https://www.tensorflow.org/tutorials/customization/performance#python_or_tensor_args and https://www.tensorflow.org/api_docs/python/tf/function for more details.\n"
     ]
    },
    {
     "name": "stderr",
     "output_type": "stream",
     "text": [
      "WARNING:tensorflow:5 out of the last 13 calls to <function TestModel.train_step at 0x7f87d402b1e0> triggered tf.function retracing. Tracing is expensive and the excessive number of tracings is likely due to passing python objects instead of tensors. Also, tf.function has experimental_relax_shapes=True option that relaxes argument shapes that can avoid unnecessary retracing. Please refer to https://www.tensorflow.org/tutorials/customization/performance#python_or_tensor_args and https://www.tensorflow.org/api_docs/python/tf/function for more details.\n"
     ]
    },
    {
     "name": "stdout",
     "output_type": "stream",
     "text": [
      "num sessions 256\n",
      "user embeddings shape (256, 384)\n",
      "sess embeddings shape (256, 368, 384)\n",
      "rnn output shape (256, 368, 512)\n",
      "attention output shape (256, 512)\n",
      "user attention ytime shape (256, 897)\n",
      "dense2 shape (256, 512)\n",
      "dense3 shape (256, 256)\n",
      "logits shape (256, 115720)\n",
      "WARNING:tensorflow:5 out of the last 11 calls to <function TestModel.train_step at 0x7f87d402b1e0> triggered tf.function retracing. Tracing is expensive and the excessive number of tracings is likely due to passing python objects instead of tensors. Also, tf.function has experimental_relax_shapes=True option that relaxes argument shapes that can avoid unnecessary retracing. Please refer to https://www.tensorflow.org/tutorials/customization/performance#python_or_tensor_args and https://www.tensorflow.org/api_docs/python/tf/function for more details.\n"
     ]
    },
    {
     "name": "stderr",
     "output_type": "stream",
     "text": [
      "WARNING:tensorflow:5 out of the last 11 calls to <function TestModel.train_step at 0x7f87d402b1e0> triggered tf.function retracing. Tracing is expensive and the excessive number of tracings is likely due to passing python objects instead of tensors. Also, tf.function has experimental_relax_shapes=True option that relaxes argument shapes that can avoid unnecessary retracing. Please refer to https://www.tensorflow.org/tutorials/customization/performance#python_or_tensor_args and https://www.tensorflow.org/api_docs/python/tf/function for more details.\n"
     ]
    },
    {
     "name": "stdout",
     "output_type": "stream",
     "text": [
      "num sessions 256\n",
      "user embeddings shape (256, 384)\n",
      "sess embeddings shape (256, 236, 384)\n",
      "rnn output shape (256, 236, 512)\n",
      "attention output shape (256, 512)\n",
      "user attention ytime shape (256, 897)\n",
      "dense2 shape (256, 512)\n",
      "dense3 shape (256, 256)\n",
      "logits shape (256, 115720)\n",
      "WARNING:tensorflow:5 out of the last 11 calls to <function TestModel.train_step at 0x7f87d402b1e0> triggered tf.function retracing. Tracing is expensive and the excessive number of tracings is likely due to passing python objects instead of tensors. Also, tf.function has experimental_relax_shapes=True option that relaxes argument shapes that can avoid unnecessary retracing. Please refer to https://www.tensorflow.org/tutorials/customization/performance#python_or_tensor_args and https://www.tensorflow.org/api_docs/python/tf/function for more details.\n"
     ]
    },
    {
     "name": "stderr",
     "output_type": "stream",
     "text": [
      "WARNING:tensorflow:5 out of the last 11 calls to <function TestModel.train_step at 0x7f87d402b1e0> triggered tf.function retracing. Tracing is expensive and the excessive number of tracings is likely due to passing python objects instead of tensors. Also, tf.function has experimental_relax_shapes=True option that relaxes argument shapes that can avoid unnecessary retracing. Please refer to https://www.tensorflow.org/tutorials/customization/performance#python_or_tensor_args and https://www.tensorflow.org/api_docs/python/tf/function for more details.\n"
     ]
    },
    {
     "name": "stdout",
     "output_type": "stream",
     "text": [
      "num sessions 256\n",
      "user embeddings shape (256, 384)\n",
      "sess embeddings shape (256, 336, 384)\n",
      "rnn output shape (256, 336, 512)\n",
      "attention output shape (256, 512)\n",
      "user attention ytime shape (256, 897)\n",
      "dense2 shape (256, 512)\n",
      "dense3 shape (256, 256)\n",
      "logits shape (256, 115720)\n",
      "WARNING:tensorflow:5 out of the last 12 calls to <function TestModel.train_step at 0x7f87d402b1e0> triggered tf.function retracing. Tracing is expensive and the excessive number of tracings is likely due to passing python objects instead of tensors. Also, tf.function has experimental_relax_shapes=True option that relaxes argument shapes that can avoid unnecessary retracing. Please refer to https://www.tensorflow.org/tutorials/customization/performance#python_or_tensor_args and https://www.tensorflow.org/api_docs/python/tf/function for more details.\n"
     ]
    },
    {
     "name": "stderr",
     "output_type": "stream",
     "text": [
      "WARNING:tensorflow:5 out of the last 12 calls to <function TestModel.train_step at 0x7f87d402b1e0> triggered tf.function retracing. Tracing is expensive and the excessive number of tracings is likely due to passing python objects instead of tensors. Also, tf.function has experimental_relax_shapes=True option that relaxes argument shapes that can avoid unnecessary retracing. Please refer to https://www.tensorflow.org/tutorials/customization/performance#python_or_tensor_args and https://www.tensorflow.org/api_docs/python/tf/function for more details.\n"
     ]
    },
    {
     "name": "stdout",
     "output_type": "stream",
     "text": [
      "num sessions 256\n",
      "user embeddings shape (256, 384)\n",
      "sess embeddings shape (256, 188, 384)\n",
      "rnn output shape (256, 188, 512)\n",
      "attention output shape (256, 512)\n",
      "user attention ytime shape (256, 897)\n",
      "dense2 shape (256, 512)\n",
      "dense3 shape (256, 256)\n",
      "logits shape (256, 115720)\n",
      "WARNING:tensorflow:6 out of the last 13 calls to <function TestModel.train_step at 0x7f87d402b1e0> triggered tf.function retracing. Tracing is expensive and the excessive number of tracings is likely due to passing python objects instead of tensors. Also, tf.function has experimental_relax_shapes=True option that relaxes argument shapes that can avoid unnecessary retracing. Please refer to https://www.tensorflow.org/tutorials/customization/performance#python_or_tensor_args and https://www.tensorflow.org/api_docs/python/tf/function for more details.\n"
     ]
    },
    {
     "name": "stderr",
     "output_type": "stream",
     "text": [
      "WARNING:tensorflow:6 out of the last 13 calls to <function TestModel.train_step at 0x7f87d402b1e0> triggered tf.function retracing. Tracing is expensive and the excessive number of tracings is likely due to passing python objects instead of tensors. Also, tf.function has experimental_relax_shapes=True option that relaxes argument shapes that can avoid unnecessary retracing. Please refer to https://www.tensorflow.org/tutorials/customization/performance#python_or_tensor_args and https://www.tensorflow.org/api_docs/python/tf/function for more details.\n"
     ]
    },
    {
     "name": "stdout",
     "output_type": "stream",
     "text": [
      "num sessions 256\n",
      "user embeddings shape (256, 384)\n",
      "sess embeddings shape (256, 232, 384)\n",
      "rnn output shape (256, 232, 512)\n",
      "attention output shape (256, 512)\n",
      "user attention ytime shape (256, 897)\n",
      "dense2 shape (256, 512)\n",
      "dense3 shape (256, 256)\n",
      "logits shape (256, 115720)\n",
      "num sessions 256\n",
      "user embeddings shape (256, 384)\n",
      "sess embeddings shape (256, 192, 384)\n",
      "rnn output shape (256, 192, 512)\n",
      "attention output shape (256, 512)\n",
      "user attention ytime shape (256, 897)\n",
      "dense2 shape (256, 512)\n",
      "dense3 shape (256, 256)\n",
      "logits shape (256, 115720)\n",
      "num sessions 256\n",
      "user embeddings shape (256, 384)\n",
      "sess embeddings shape (256, 164, 384)\n",
      "rnn output shape (256, 164, 512)\n",
      "attention output shape (256, 512)\n",
      "user attention ytime shape (256, 897)\n",
      "dense2 shape (256, 512)\n",
      "dense3 shape (256, 256)\n",
      "logits shape (256, 115720)\n",
      "num sessions 256\n",
      "user embeddings shape (256, 384)\n",
      "sess embeddings shape (256, 432, 384)\n",
      "rnn output shape (256, 432, 512)\n",
      "attention output shape (256, 512)\n",
      "user attention ytime shape (256, 897)\n",
      "dense2 shape (256, 512)\n",
      "dense3 shape (256, 256)\n",
      "logits shape (256, 115720)\n",
      "num sessions 256\n",
      "user embeddings shape (256, 384)\n",
      "sess embeddings shape (256, 244, 384)\n",
      "rnn output shape (256, 244, 512)\n",
      "attention output shape (256, 512)\n",
      "user attention ytime shape (256, 897)\n",
      "dense2 shape (256, 512)\n",
      "dense3 shape (256, 256)\n",
      "logits shape (256, 115720)\n",
      "num sessions 256\n",
      "user embeddings shape (256, 384)\n",
      "sess embeddings shape (256, 288, 384)\n",
      "rnn output shape (256, 288, 512)\n",
      "attention output shape (256, 512)\n",
      "user attention ytime shape (256, 897)\n",
      "dense2 shape (256, 512)\n",
      "dense3 shape (256, 256)\n",
      "logits shape (256, 115720)\n",
      "num sessions 256\n",
      "user embeddings shape (256, 384)\n",
      "sess embeddings shape (256, 412, 384)\n",
      "rnn output shape (256, 412, 512)\n",
      "attention output shape (256, 512)\n",
      "user attention ytime shape (256, 897)\n",
      "dense2 shape (256, 512)\n",
      "dense3 shape (256, 256)\n",
      "logits shape (256, 115720)\n",
      "num sessions 256\n",
      "user embeddings shape (256, 384)\n",
      "sess embeddings shape (256, 396, 384)\n",
      "rnn output shape (256, 396, 512)\n",
      "attention output shape (256, 512)\n",
      "user attention ytime shape (256, 897)\n",
      "dense2 shape (256, 512)\n",
      "dense3 shape (256, 256)\n",
      "logits shape (256, 115720)\n",
      "num sessions 256\n",
      "user embeddings shape (256, 384)\n",
      "sess embeddings shape (256, 404, 384)\n",
      "rnn output shape (256, 404, 512)\n",
      "attention output shape (256, 512)\n",
      "user attention ytime shape (256, 897)\n",
      "dense2 shape (256, 512)\n",
      "dense3 shape (256, 256)\n",
      "logits shape (256, 115720)\n",
      "num sessions 256\n",
      "user embeddings shape (256, 384)\n",
      "sess embeddings shape (256, 208, 384)\n",
      "rnn output shape (256, 208, 512)\n",
      "attention output shape (256, 512)\n",
      "user attention ytime shape (256, 897)\n",
      "dense2 shape (256, 512)\n",
      "dense3 shape (256, 256)\n",
      "logits shape (256, 115720)\n",
      "WARNING:tensorflow:5 out of the last 13 calls to <function TestModel.train_step at 0x7f87d402b1e0> triggered tf.function retracing. Tracing is expensive and the excessive number of tracings is likely due to passing python objects instead of tensors. Also, tf.function has experimental_relax_shapes=True option that relaxes argument shapes that can avoid unnecessary retracing. Please refer to https://www.tensorflow.org/tutorials/customization/performance#python_or_tensor_args and https://www.tensorflow.org/api_docs/python/tf/function for more details.\n"
     ]
    },
    {
     "name": "stderr",
     "output_type": "stream",
     "text": [
      "WARNING:tensorflow:5 out of the last 13 calls to <function TestModel.train_step at 0x7f87d402b1e0> triggered tf.function retracing. Tracing is expensive and the excessive number of tracings is likely due to passing python objects instead of tensors. Also, tf.function has experimental_relax_shapes=True option that relaxes argument shapes that can avoid unnecessary retracing. Please refer to https://www.tensorflow.org/tutorials/customization/performance#python_or_tensor_args and https://www.tensorflow.org/api_docs/python/tf/function for more details.\n"
     ]
    },
    {
     "name": "stdout",
     "output_type": "stream",
     "text": [
      "num sessions 256\n",
      "user embeddings shape (256, 384)\n",
      "sess embeddings shape (256, 280, 384)\n",
      "rnn output shape (256, 280, 512)\n",
      "attention output shape (256, 512)\n",
      "user attention ytime shape (256, 897)\n",
      "dense2 shape (256, 512)\n",
      "dense3 shape (256, 256)\n",
      "logits shape (256, 115720)\n",
      "WARNING:tensorflow:6 out of the last 15 calls to <function TestModel.train_step at 0x7f87d402b1e0> triggered tf.function retracing. Tracing is expensive and the excessive number of tracings is likely due to passing python objects instead of tensors. Also, tf.function has experimental_relax_shapes=True option that relaxes argument shapes that can avoid unnecessary retracing. Please refer to https://www.tensorflow.org/tutorials/customization/performance#python_or_tensor_args and https://www.tensorflow.org/api_docs/python/tf/function for more details.\n"
     ]
    },
    {
     "name": "stderr",
     "output_type": "stream",
     "text": [
      "WARNING:tensorflow:6 out of the last 15 calls to <function TestModel.train_step at 0x7f87d402b1e0> triggered tf.function retracing. Tracing is expensive and the excessive number of tracings is likely due to passing python objects instead of tensors. Also, tf.function has experimental_relax_shapes=True option that relaxes argument shapes that can avoid unnecessary retracing. Please refer to https://www.tensorflow.org/tutorials/customization/performance#python_or_tensor_args and https://www.tensorflow.org/api_docs/python/tf/function for more details.\n"
     ]
    },
    {
     "name": "stdout",
     "output_type": "stream",
     "text": [
      "num sessions 256\n",
      "user embeddings shape (256, 384)\n",
      "sess embeddings shape (256, 240, 384)\n",
      "rnn output shape (256, 240, 512)\n",
      "attention output shape (256, 512)\n",
      "user attention ytime shape (256, 897)\n",
      "dense2 shape (256, 512)\n",
      "dense3 shape (256, 256)\n",
      "logits shape (256, 115720)\n",
      "num sessions 256\n",
      "user embeddings shape (256, 384)\n",
      "sess embeddings shape (256, 352, 384)\n",
      "rnn output shape (256, 352, 512)\n",
      "attention output shape (256, 512)\n",
      "user attention ytime shape (256, 897)\n",
      "dense2 shape (256, 512)\n",
      "dense3 shape (256, 256)\n",
      "logits shape (256, 115720)\n",
      "num sessions 256\n",
      "user embeddings shape (256, 384)\n",
      "sess embeddings shape (256, 444, 384)\n",
      "rnn output shape (256, 444, 512)\n",
      "attention output shape (256, 512)\n",
      "user attention ytime shape (256, 897)\n",
      "dense2 shape (256, 512)\n",
      "dense3 shape (256, 256)\n",
      "logits shape (256, 115720)\n",
      "num sessions 256\n",
      "user embeddings shape (256, 384)\n",
      "sess embeddings shape (256, 308, 384)\n",
      "rnn output shape (256, 308, 512)\n",
      "attention output shape (256, 512)\n",
      "user attention ytime shape (256, 897)\n",
      "dense2 shape (256, 512)\n",
      "dense3 shape (256, 256)\n",
      "logits shape (256, 115720)\n",
      "num sessions 256\n",
      "user embeddings shape (256, 384)\n",
      "sess embeddings shape (256, 360, 384)\n",
      "rnn output shape (256, 360, 512)\n",
      "attention output shape (256, 512)\n",
      "user attention ytime shape (256, 897)\n",
      "dense2 shape (256, 512)\n",
      "dense3 shape (256, 256)\n",
      "logits shape (256, 115720)\n",
      "num sessions 256\n",
      "user embeddings shape (256, 384)\n",
      "sess embeddings shape (256, 448, 384)\n",
      "rnn output shape (256, 448, 512)\n",
      "attention output shape (256, 512)\n",
      "user attention ytime shape (256, 897)\n",
      "dense2 shape (256, 512)\n",
      "dense3 shape (256, 256)\n",
      "logits shape (256, 115720)\n",
      "num sessions 256\n",
      "user embeddings shape (256, 384)\n",
      "sess embeddings shape (256, 416, 384)\n",
      "rnn output shape (256, 416, 512)\n",
      "attention output shape (256, 512)\n",
      "user attention ytime shape (256, 897)\n",
      "dense2 shape (256, 512)\n",
      "dense3 shape (256, 256)\n",
      "logits shape (256, 115720)\n",
      "num sessions 256\n",
      "user embeddings shape (256, 384)\n",
      "sess embeddings shape (256, 392, 384)\n",
      "rnn output shape (256, 392, 512)\n",
      "attention output shape (256, 512)\n",
      "user attention ytime shape (256, 897)\n",
      "dense2 shape (256, 512)\n",
      "dense3 shape (256, 256)\n",
      "logits shape (256, 115720)\n",
      "num sessions 256\n",
      "user embeddings shape (256, 384)\n",
      "sess embeddings shape (256, 424, 384)\n",
      "rnn output shape (256, 424, 512)\n",
      "attention output shape (256, 512)\n",
      "user attention ytime shape (256, 897)\n",
      "dense2 shape (256, 512)\n",
      "dense3 shape (256, 256)\n",
      "logits shape (256, 115720)\n",
      "num sessions 256\n",
      "user embeddings shape (256, 384)\n",
      "sess embeddings shape (256, 196, 384)\n",
      "rnn output shape (256, 196, 512)\n",
      "attention output shape (256, 512)\n",
      "user attention ytime shape (256, 897)\n",
      "dense2 shape (256, 512)\n",
      "dense3 shape (256, 256)\n",
      "logits shape (256, 115720)\n",
      "num sessions 256\n",
      "user embeddings shape (256, 384)\n",
      "sess embeddings shape (256, 440, 384)\n",
      "rnn output shape (256, 440, 512)\n",
      "attention output shape (256, 512)\n",
      "user attention ytime shape (256, 897)\n",
      "dense2 shape (256, 512)\n",
      "dense3 shape (256, 256)\n",
      "logits shape (256, 115720)\n",
      "num sessions 256\n",
      "user embeddings shape (256, 384)\n",
      "sess embeddings shape (256, 160, 384)\n",
      "rnn output shape (256, 160, 512)\n",
      "attention output shape (256, 512)\n",
      "user attention ytime shape (256, 897)\n",
      "dense2 shape (256, 512)\n",
      "dense3 shape (256, 256)\n",
      "logits shape (256, 115720)\n",
      "num sessions 256\n",
      "user embeddings shape (256, 384)\n",
      "sess embeddings shape (256, 176, 384)\n",
      "rnn output shape (256, 176, 512)\n",
      "attention output shape (256, 512)\n",
      "user attention ytime shape (256, 897)\n",
      "dense2 shape (256, 512)\n",
      "dense3 shape (256, 256)\n",
      "logits shape (256, 115720)\n",
      "num sessions 256\n",
      "user embeddings shape (256, 384)\n",
      "sess embeddings shape (256, 436, 384)\n",
      "rnn output shape (256, 436, 512)\n",
      "attention output shape (256, 512)\n",
      "user attention ytime shape (256, 897)\n",
      "dense2 shape (256, 512)\n",
      "dense3 shape (256, 256)\n",
      "logits shape (256, 115720)\n",
      "num sessions 256\n",
      "user embeddings shape (256, 384)\n",
      "sess embeddings shape (256, 180, 384)\n",
      "rnn output shape (256, 180, 512)\n",
      "attention output shape (256, 512)\n",
      "user attention ytime shape (256, 897)\n",
      "dense2 shape (256, 512)\n",
      "dense3 shape (256, 256)\n",
      "logits shape (256, 115720)\n",
      "num sessions 256\n",
      "user embeddings shape (256, 384)\n",
      "sess embeddings shape (256, 420, 384)\n",
      "rnn output shape (256, 420, 512)\n",
      "attention output shape (256, 512)\n",
      "user attention ytime shape (256, 897)\n",
      "dense2 shape (256, 512)\n",
      "dense3 shape (256, 256)\n",
      "logits shape (256, 115720)\n",
      "num sessions 256\n",
      "user embeddings shape (256, 384)\n",
      "sess embeddings shape (256, 172, 384)\n",
      "rnn output shape (256, 172, 512)\n",
      "attention output shape (256, 512)\n",
      "user attention ytime shape (256, 897)\n",
      "dense2 shape (256, 512)\n",
      "dense3 shape (256, 256)\n",
      "logits shape (256, 115720)\n",
      "num sessions 256\n",
      "user embeddings shape (256, 384)\n",
      "sess embeddings shape (256, 168, 384)\n",
      "rnn output shape (256, 168, 512)\n",
      "attention output shape (256, 512)\n",
      "user attention ytime shape (256, 897)\n",
      "dense2 shape (256, 512)\n",
      "dense3 shape (256, 256)\n",
      "logits shape (256, 115720)\n",
      "num sessions 256\n",
      "user embeddings shape (256, 384)\n",
      "sess embeddings shape (256, 156, 384)\n",
      "rnn output shape (256, 156, 512)\n",
      "attention output shape (256, 512)\n",
      "user attention ytime shape (256, 897)\n",
      "dense2 shape (256, 512)\n",
      "dense3 shape (256, 256)\n",
      "logits shape (256, 115720)\n",
      "num sessions 256\n",
      "user embeddings shape (256, 384)\n",
      "sess embeddings shape (256, 452, 384)\n",
      "rnn output shape (256, 452, 512)\n",
      "attention output shape (256, 512)\n",
      "user attention ytime shape (256, 897)\n",
      "dense2 shape (256, 512)\n",
      "dense3 shape (256, 256)\n",
      "logits shape (256, 115720)\n",
      "num sessions 256\n",
      "user embeddings shape (256, 384)\n",
      "sess embeddings shape (256, 456, 384)\n",
      "rnn output shape (256, 456, 512)\n",
      "attention output shape (256, 512)\n",
      "user attention ytime shape (256, 897)\n",
      "dense2 shape (256, 512)\n",
      "dense3 shape (256, 256)\n",
      "logits shape (256, 115720)\n",
      "num sessions 256\n",
      "user embeddings shape (256, 384)\n",
      "sess embeddings shape (256, 152, 384)\n",
      "rnn output shape (256, 152, 512)\n",
      "attention output shape (256, 512)\n",
      "user attention ytime shape (256, 897)\n",
      "dense2 shape (256, 512)\n",
      "dense3 shape (256, 256)\n",
      "logits shape (256, 115720)\n",
      "num sessions 256\n",
      "user embeddings shape (256, 384)\n",
      "sess embeddings shape (256, 148, 384)\n",
      "rnn output shape (256, 148, 512)\n",
      "attention output shape (256, 512)\n",
      "user attention ytime shape (256, 897)\n",
      "dense2 shape (256, 512)\n",
      "dense3 shape (256, 256)\n",
      "logits shape (256, 115720)\n",
      "num sessions 256\n",
      "user embeddings shape (256, 384)\n",
      "sess embeddings shape (256, 460, 384)\n",
      "rnn output shape (256, 460, 512)\n",
      "attention output shape (256, 512)\n",
      "user attention ytime shape (256, 897)\n",
      "dense2 shape (256, 512)\n",
      "dense3 shape (256, 256)\n",
      "logits shape (256, 115720)\n",
      "num sessions 256\n",
      "user embeddings shape (256, 384)\n",
      "sess embeddings shape (256, 140, 384)\n",
      "rnn output shape (256, 140, 512)\n",
      "attention output shape (256, 512)\n",
      "user attention ytime shape (256, 897)\n",
      "dense2 shape (256, 512)\n",
      "dense3 shape (256, 256)\n",
      "logits shape (256, 115720)\n",
      "num sessions 80\n",
      "user embeddings shape (80, 384)\n",
      "sess embeddings shape (80, 240, 384)\n",
      "rnn output shape (80, 240, 512)\n",
      "attention output shape (80, 512)\n",
      "user attention ytime shape (80, 897)\n",
      "dense2 shape (80, 512)\n",
      "dense3 shape (80, 256)\n",
      "logits shape (80, 115720)\n",
      "\n"
     ]
    },
    {
     "data": {
      "application/vnd.jupyter.widget-view+json": {
       "model_id": "8aaffabb20c04bccb4aa803ca803693d",
       "version_major": 2,
       "version_minor": 0
      },
      "text/plain": [
       "HBox(children=(FloatProgress(value=0.0, max=48.0), HTML(value='')))"
      ]
     },
     "metadata": {},
     "output_type": "display_data"
    },
    {
     "name": "stdout",
     "output_type": "stream",
     "text": [
      "num sessions 256\n",
      "user embeddings shape (256, 384)\n",
      "sess embeddings shape (256, 4, 384)\n",
      "rnn output shape (256, 4, 512)\n",
      "attention output shape (256, 512)\n",
      "user attention ytime shape (256, 897)\n",
      "num sessions 48\n",
      "user embeddings shape (48, 384)\n",
      "sess embeddings shape (48, 4, 384)\n",
      "rnn output shape (48, 4, 512)\n",
      "attention output shape (48, 512)\n",
      "user attention ytime shape (48, 897)\n",
      "\n",
      "acc train: 0.1202491968870163\n",
      "acc val: 0.0\n",
      "top5 acc train: 0.31075814366340637\n",
      "top5 acc val: 0.0\n",
      "top10 acc train: 0.42910236120224\n",
      "top10 acc val: 8.278145833173767e-05\n",
      "top50 acc train: 0.6966474652290344\n",
      "top50 acc val: 0.0007450330886058509\n",
      "Epoch 1\n",
      "epoch 1/60\n"
     ]
    },
    {
     "data": {
      "application/vnd.jupyter.widget-view+json": {
       "model_id": "b77b45222ecd4c229871d910be02ad7f",
       "version_major": 2,
       "version_minor": 0
      },
      "text/plain": [
       "HBox(children=(FloatProgress(value=0.0, max=41973.0), HTML(value='')))"
      ]
     },
     "metadata": {},
     "output_type": "display_data"
    },
    {
     "ename": "KeyboardInterrupt",
     "evalue": "",
     "output_type": "error",
     "traceback": [
      "\u001b[0;31m---------------------------------------------------------------------------\u001b[0m",
      "\u001b[0;31mKeyboardInterrupt\u001b[0m                         Traceback (most recent call last)",
      "\u001b[0;32m<ipython-input-9-2a28218f7177>\u001b[0m in \u001b[0;36m<module>\u001b[0;34m\u001b[0m\n\u001b[1;32m     72\u001b[0m             \u001b[0mtf\u001b[0m\u001b[0;34m.\u001b[0m\u001b[0mconstant\u001b[0m\u001b[0;34m(\u001b[0m\u001b[0mnp\u001b[0m\u001b[0;34m.\u001b[0m\u001b[0marray\u001b[0m\u001b[0;34m(\u001b[0m\u001b[0my_times\u001b[0m\u001b[0;34m,\u001b[0m \u001b[0mnp\u001b[0m\u001b[0;34m.\u001b[0m\u001b[0mfloat32\u001b[0m\u001b[0;34m)\u001b[0m\u001b[0;34m)\u001b[0m\u001b[0;34m,\u001b[0m\u001b[0;34m\u001b[0m\u001b[0;34m\u001b[0m\u001b[0m\n\u001b[1;32m     73\u001b[0m             \u001b[0mtf\u001b[0m\u001b[0;34m.\u001b[0m\u001b[0mconstant\u001b[0m\u001b[0;34m(\u001b[0m\u001b[0mnp\u001b[0m\u001b[0;34m.\u001b[0m\u001b[0marray\u001b[0m\u001b[0;34m(\u001b[0m\u001b[0my\u001b[0m\u001b[0;34m)\u001b[0m\u001b[0;34m,\u001b[0m \u001b[0mtf\u001b[0m\u001b[0;34m.\u001b[0m\u001b[0mint64\u001b[0m\u001b[0;34m)\u001b[0m\u001b[0;34m,\u001b[0m\u001b[0;34m\u001b[0m\u001b[0;34m\u001b[0m\u001b[0m\n\u001b[0;32m---> 74\u001b[0;31m             train_accs)\n\u001b[0m\u001b[1;32m     75\u001b[0m     \u001b[0mX_user\u001b[0m \u001b[0;34m=\u001b[0m \u001b[0mval_X\u001b[0m\u001b[0;34m[\u001b[0m\u001b[0;34m\"user_id\"\u001b[0m\u001b[0;34m]\u001b[0m\u001b[0;34m\u001b[0m\u001b[0;34m\u001b[0m\u001b[0m\n\u001b[1;32m     76\u001b[0m     \u001b[0mX_sess\u001b[0m \u001b[0;34m=\u001b[0m \u001b[0mval_X\u001b[0m\u001b[0;34m[\u001b[0m\u001b[0;34m\"session\"\u001b[0m\u001b[0;34m]\u001b[0m\u001b[0;34m\u001b[0m\u001b[0;34m\u001b[0m\u001b[0m\n",
      "\u001b[0;32m~/.pyenv/versions/anaconda3-2019.07/envs/tf2/lib/python3.7/site-packages/tensorflow/python/eager/def_function.py\u001b[0m in \u001b[0;36m__call__\u001b[0;34m(self, *args, **kwds)\u001b[0m\n\u001b[1;32m    578\u001b[0m         \u001b[0mxla_context\u001b[0m\u001b[0;34m.\u001b[0m\u001b[0mExit\u001b[0m\u001b[0;34m(\u001b[0m\u001b[0;34m)\u001b[0m\u001b[0;34m\u001b[0m\u001b[0;34m\u001b[0m\u001b[0m\n\u001b[1;32m    579\u001b[0m     \u001b[0;32melse\u001b[0m\u001b[0;34m:\u001b[0m\u001b[0;34m\u001b[0m\u001b[0;34m\u001b[0m\u001b[0m\n\u001b[0;32m--> 580\u001b[0;31m       \u001b[0mresult\u001b[0m \u001b[0;34m=\u001b[0m \u001b[0mself\u001b[0m\u001b[0;34m.\u001b[0m\u001b[0m_call\u001b[0m\u001b[0;34m(\u001b[0m\u001b[0;34m*\u001b[0m\u001b[0margs\u001b[0m\u001b[0;34m,\u001b[0m \u001b[0;34m**\u001b[0m\u001b[0mkwds\u001b[0m\u001b[0;34m)\u001b[0m\u001b[0;34m\u001b[0m\u001b[0;34m\u001b[0m\u001b[0m\n\u001b[0m\u001b[1;32m    581\u001b[0m \u001b[0;34m\u001b[0m\u001b[0m\n\u001b[1;32m    582\u001b[0m     \u001b[0;32mif\u001b[0m \u001b[0mtracing_count\u001b[0m \u001b[0;34m==\u001b[0m \u001b[0mself\u001b[0m\u001b[0;34m.\u001b[0m\u001b[0m_get_tracing_count\u001b[0m\u001b[0;34m(\u001b[0m\u001b[0;34m)\u001b[0m\u001b[0;34m:\u001b[0m\u001b[0;34m\u001b[0m\u001b[0;34m\u001b[0m\u001b[0m\n",
      "\u001b[0;32m~/.pyenv/versions/anaconda3-2019.07/envs/tf2/lib/python3.7/site-packages/tensorflow/python/eager/def_function.py\u001b[0m in \u001b[0;36m_call\u001b[0;34m(self, *args, **kwds)\u001b[0m\n\u001b[1;32m    609\u001b[0m       \u001b[0;31m# In this case we have created variables on the first call, so we run the\u001b[0m\u001b[0;34m\u001b[0m\u001b[0;34m\u001b[0m\u001b[0;34m\u001b[0m\u001b[0m\n\u001b[1;32m    610\u001b[0m       \u001b[0;31m# defunned version which is guaranteed to never create variables.\u001b[0m\u001b[0;34m\u001b[0m\u001b[0;34m\u001b[0m\u001b[0;34m\u001b[0m\u001b[0m\n\u001b[0;32m--> 611\u001b[0;31m       \u001b[0;32mreturn\u001b[0m \u001b[0mself\u001b[0m\u001b[0;34m.\u001b[0m\u001b[0m_stateless_fn\u001b[0m\u001b[0;34m(\u001b[0m\u001b[0;34m*\u001b[0m\u001b[0margs\u001b[0m\u001b[0;34m,\u001b[0m \u001b[0;34m**\u001b[0m\u001b[0mkwds\u001b[0m\u001b[0;34m)\u001b[0m  \u001b[0;31m# pylint: disable=not-callable\u001b[0m\u001b[0;34m\u001b[0m\u001b[0;34m\u001b[0m\u001b[0m\n\u001b[0m\u001b[1;32m    612\u001b[0m     \u001b[0;32melif\u001b[0m \u001b[0mself\u001b[0m\u001b[0;34m.\u001b[0m\u001b[0m_stateful_fn\u001b[0m \u001b[0;32mis\u001b[0m \u001b[0;32mnot\u001b[0m \u001b[0;32mNone\u001b[0m\u001b[0;34m:\u001b[0m\u001b[0;34m\u001b[0m\u001b[0;34m\u001b[0m\u001b[0m\n\u001b[1;32m    613\u001b[0m       \u001b[0;31m# Release the lock early so that multiple threads can perform the call\u001b[0m\u001b[0;34m\u001b[0m\u001b[0;34m\u001b[0m\u001b[0;34m\u001b[0m\u001b[0m\n",
      "\u001b[0;32m~/.pyenv/versions/anaconda3-2019.07/envs/tf2/lib/python3.7/site-packages/tensorflow/python/eager/function.py\u001b[0m in \u001b[0;36m__call__\u001b[0;34m(self, *args, **kwargs)\u001b[0m\n\u001b[1;32m   2418\u001b[0m     \u001b[0;32mwith\u001b[0m \u001b[0mself\u001b[0m\u001b[0;34m.\u001b[0m\u001b[0m_lock\u001b[0m\u001b[0;34m:\u001b[0m\u001b[0;34m\u001b[0m\u001b[0;34m\u001b[0m\u001b[0m\n\u001b[1;32m   2419\u001b[0m       \u001b[0mgraph_function\u001b[0m\u001b[0;34m,\u001b[0m \u001b[0margs\u001b[0m\u001b[0;34m,\u001b[0m \u001b[0mkwargs\u001b[0m \u001b[0;34m=\u001b[0m \u001b[0mself\u001b[0m\u001b[0;34m.\u001b[0m\u001b[0m_maybe_define_function\u001b[0m\u001b[0;34m(\u001b[0m\u001b[0margs\u001b[0m\u001b[0;34m,\u001b[0m \u001b[0mkwargs\u001b[0m\u001b[0;34m)\u001b[0m\u001b[0;34m\u001b[0m\u001b[0;34m\u001b[0m\u001b[0m\n\u001b[0;32m-> 2420\u001b[0;31m     \u001b[0;32mreturn\u001b[0m \u001b[0mgraph_function\u001b[0m\u001b[0;34m.\u001b[0m\u001b[0m_filtered_call\u001b[0m\u001b[0;34m(\u001b[0m\u001b[0margs\u001b[0m\u001b[0;34m,\u001b[0m \u001b[0mkwargs\u001b[0m\u001b[0;34m)\u001b[0m  \u001b[0;31m# pylint: disable=protected-access\u001b[0m\u001b[0;34m\u001b[0m\u001b[0;34m\u001b[0m\u001b[0m\n\u001b[0m\u001b[1;32m   2421\u001b[0m \u001b[0;34m\u001b[0m\u001b[0m\n\u001b[1;32m   2422\u001b[0m   \u001b[0;34m@\u001b[0m\u001b[0mproperty\u001b[0m\u001b[0;34m\u001b[0m\u001b[0;34m\u001b[0m\u001b[0m\n",
      "\u001b[0;32m~/.pyenv/versions/anaconda3-2019.07/envs/tf2/lib/python3.7/site-packages/tensorflow/python/eager/function.py\u001b[0m in \u001b[0;36m_filtered_call\u001b[0;34m(self, args, kwargs)\u001b[0m\n\u001b[1;32m   1663\u001b[0m          if isinstance(t, (ops.Tensor,\n\u001b[1;32m   1664\u001b[0m                            resource_variable_ops.BaseResourceVariable))),\n\u001b[0;32m-> 1665\u001b[0;31m         self.captured_inputs)\n\u001b[0m\u001b[1;32m   1666\u001b[0m \u001b[0;34m\u001b[0m\u001b[0m\n\u001b[1;32m   1667\u001b[0m   \u001b[0;32mdef\u001b[0m \u001b[0m_call_flat\u001b[0m\u001b[0;34m(\u001b[0m\u001b[0mself\u001b[0m\u001b[0;34m,\u001b[0m \u001b[0margs\u001b[0m\u001b[0;34m,\u001b[0m \u001b[0mcaptured_inputs\u001b[0m\u001b[0;34m,\u001b[0m \u001b[0mcancellation_manager\u001b[0m\u001b[0;34m=\u001b[0m\u001b[0;32mNone\u001b[0m\u001b[0;34m)\u001b[0m\u001b[0;34m:\u001b[0m\u001b[0;34m\u001b[0m\u001b[0;34m\u001b[0m\u001b[0m\n",
      "\u001b[0;32m~/.pyenv/versions/anaconda3-2019.07/envs/tf2/lib/python3.7/site-packages/tensorflow/python/eager/function.py\u001b[0m in \u001b[0;36m_call_flat\u001b[0;34m(self, args, captured_inputs, cancellation_manager)\u001b[0m\n\u001b[1;32m   1744\u001b[0m       \u001b[0;31m# No tape is watching; skip to running the function.\u001b[0m\u001b[0;34m\u001b[0m\u001b[0;34m\u001b[0m\u001b[0;34m\u001b[0m\u001b[0m\n\u001b[1;32m   1745\u001b[0m       return self._build_call_outputs(self._inference_function.call(\n\u001b[0;32m-> 1746\u001b[0;31m           ctx, args, cancellation_manager=cancellation_manager))\n\u001b[0m\u001b[1;32m   1747\u001b[0m     forward_backward = self._select_forward_and_backward_functions(\n\u001b[1;32m   1748\u001b[0m         \u001b[0margs\u001b[0m\u001b[0;34m,\u001b[0m\u001b[0;34m\u001b[0m\u001b[0;34m\u001b[0m\u001b[0m\n",
      "\u001b[0;32m~/.pyenv/versions/anaconda3-2019.07/envs/tf2/lib/python3.7/site-packages/tensorflow/python/eager/function.py\u001b[0m in \u001b[0;36mcall\u001b[0;34m(self, ctx, args, cancellation_manager)\u001b[0m\n\u001b[1;32m    596\u001b[0m               \u001b[0minputs\u001b[0m\u001b[0;34m=\u001b[0m\u001b[0margs\u001b[0m\u001b[0;34m,\u001b[0m\u001b[0;34m\u001b[0m\u001b[0;34m\u001b[0m\u001b[0m\n\u001b[1;32m    597\u001b[0m               \u001b[0mattrs\u001b[0m\u001b[0;34m=\u001b[0m\u001b[0mattrs\u001b[0m\u001b[0;34m,\u001b[0m\u001b[0;34m\u001b[0m\u001b[0;34m\u001b[0m\u001b[0m\n\u001b[0;32m--> 598\u001b[0;31m               ctx=ctx)\n\u001b[0m\u001b[1;32m    599\u001b[0m         \u001b[0;32melse\u001b[0m\u001b[0;34m:\u001b[0m\u001b[0;34m\u001b[0m\u001b[0;34m\u001b[0m\u001b[0m\n\u001b[1;32m    600\u001b[0m           outputs = execute.execute_with_cancellation(\n",
      "\u001b[0;32m~/.pyenv/versions/anaconda3-2019.07/envs/tf2/lib/python3.7/site-packages/tensorflow/python/eager/execute.py\u001b[0m in \u001b[0;36mquick_execute\u001b[0;34m(op_name, num_outputs, inputs, attrs, ctx, name)\u001b[0m\n\u001b[1;32m     58\u001b[0m     \u001b[0mctx\u001b[0m\u001b[0;34m.\u001b[0m\u001b[0mensure_initialized\u001b[0m\u001b[0;34m(\u001b[0m\u001b[0;34m)\u001b[0m\u001b[0;34m\u001b[0m\u001b[0;34m\u001b[0m\u001b[0m\n\u001b[1;32m     59\u001b[0m     tensors = pywrap_tfe.TFE_Py_Execute(ctx._handle, device_name, op_name,\n\u001b[0;32m---> 60\u001b[0;31m                                         inputs, attrs, num_outputs)\n\u001b[0m\u001b[1;32m     61\u001b[0m   \u001b[0;32mexcept\u001b[0m \u001b[0mcore\u001b[0m\u001b[0;34m.\u001b[0m\u001b[0m_NotOkStatusException\u001b[0m \u001b[0;32mas\u001b[0m \u001b[0me\u001b[0m\u001b[0;34m:\u001b[0m\u001b[0;34m\u001b[0m\u001b[0;34m\u001b[0m\u001b[0m\n\u001b[1;32m     62\u001b[0m     \u001b[0;32mif\u001b[0m \u001b[0mname\u001b[0m \u001b[0;32mis\u001b[0m \u001b[0;32mnot\u001b[0m \u001b[0;32mNone\u001b[0m\u001b[0;34m:\u001b[0m\u001b[0;34m\u001b[0m\u001b[0;34m\u001b[0m\u001b[0m\n",
      "\u001b[0;31mKeyboardInterrupt\u001b[0m: "
     ]
    }
   ],
   "source": [
    "batch_size = 256\n",
    "# batch_size = 2\n",
    "print(\"batch_size\", batch_size)\n",
    "\n",
    "model = TestModel(\n",
    "    num_users = num_users,\n",
    "    num_items = num_items,\n",
    "    embedding_size=384,\n",
    "    user_features=tf.constant(np.float32(user_content), tf.float32),\n",
    "    item_features=tf.constant(np.float32(item_content), tf.float32),\n",
    "    gru_size=256,\n",
    "    dense2_size=512,\n",
    "    dense3_size=256,\n",
    "    softmax_classes=128,\n",
    "    temp=.01\n",
    ")\n",
    "\n",
    "loss_object = tf.keras.losses.SparseCategoricalCrossentropy(from_logits=True)\n",
    "\n",
    "optimizer = tf.keras.optimizers.Adam(learning_rate=.0003)\n",
    "\n",
    "train_accs = [\n",
    "    tf.keras.metrics.SparseCategoricalAccuracy(),\n",
    "    tf.keras.metrics.SparseTopKCategoricalAccuracy(k=5),\n",
    "    tf.keras.metrics.SparseTopKCategoricalAccuracy(k=10),\n",
    "    tf.keras.metrics.SparseTopKCategoricalAccuracy(k=50),\n",
    "]\n",
    "val_accs = [\n",
    "    tf.keras.metrics.SparseCategoricalAccuracy(),\n",
    "    tf.keras.metrics.SparseTopKCategoricalAccuracy(k=5),\n",
    "    tf.keras.metrics.SparseTopKCategoricalAccuracy(k=10),\n",
    "    tf.keras.metrics.SparseTopKCategoricalAccuracy(k=50),\n",
    "]\n",
    "\n",
    "EPOCHS = 60\n",
    "\n",
    "train_accs_rec = defaultdict(lambda: [])\n",
    "val_accs_rec = defaultdict(lambda: [])\n",
    "test_accs_rec = defaultdict(lambda: [])\n",
    "train_losses_rec = []\n",
    "val_losses_rec = []\n",
    "\n",
    "top_acc = 0\n",
    "for epoch in tqdm(list(range(EPOCHS))):\n",
    "    print(f\"epoch {epoch}/{EPOCHS}\")\n",
    "\n",
    "    for train_acc in train_accs:\n",
    "        train_acc.reset_states()\n",
    "    for val_acc in val_accs:\n",
    "        val_acc.reset_states()\n",
    "\n",
    "    X_user = train_X[\"user_id\"]\n",
    "    X_sess = train_X[\"session\"]\n",
    "    X_sess_time = train_X[\"X_time\"]\n",
    "    X_y_time = train_X[\"y_time\"]\n",
    "    ys = train_y\n",
    "\n",
    "    for users, sesses, sesses_times, y_times, y in tqdm(list(\n",
    "        batchify(X_user, X_sess, X_sess_time, X_y_time, ys, shuffle=True, batch_size=batch_size))):\n",
    "\n",
    "        (sesses, sesses_times), mask = mask_length(\n",
    "            [np.array(sess) for sess in sesses],\n",
    "            [np.array(sess_times) for sess_times in sesses_times],\n",
    "            maskon_vals=0, \n",
    "            maskoff_vals=-np.inf)\n",
    "        \n",
    "        logits, preds, loss = model.train_step(\n",
    "            tf.constant(np.array(sesses), tf.int64), \n",
    "            tf.constant(np.array(sesses_times), np.float32),\n",
    "            tf.constant(np.array(mask), tf.float32),\n",
    "            tf.constant(np.array(users), tf.int64), \n",
    "            tf.constant(np.array(y_times, np.float32)), \n",
    "            tf.constant(np.array(y), tf.int64), \n",
    "            train_accs)\n",
    "    X_user = val_X[\"user_id\"]\n",
    "    X_sess = val_X[\"session\"]\n",
    "    X_sess_time = val_X[\"X_time\"]\n",
    "    X_y_time = val_X[\"y_time\"]   \n",
    "    ys = val_y\n",
    "    for users, sesses, sesses_times, y_times, y in tqdm(list(\n",
    "        batchify(X_user, X_sess, X_sess_time, X_y_time, ys, shuffle=True, batch_size=batch_size))):\n",
    "\n",
    "        (sesses, sesses_times), mask = mask_length(\n",
    "            [np.array(sess) for sess in sesses],\n",
    "            [np.array(sess_times) for sess_times in sesses_times],\n",
    "            maskon_vals=0, \n",
    "            maskoff_vals=-np.inf)\n",
    "        \n",
    "        model.test_step(\n",
    "            tf.constant(np.array(sesses), tf.int64), \n",
    "            tf.constant(np.array(sesses_times), np.float32),\n",
    "            tf.constant(np.array(mask), tf.float32),\n",
    "            tf.constant(np.array(users), tf.int64), \n",
    "            tf.constant(np.array(y_times, np.float32)), \n",
    "            tf.constant(np.array(y), tf.int64), \n",
    "            val_accs)\n",
    "\n",
    "    topn_labels = [\"acc\", \"top5 acc\", \"top10 acc\", \"top50 acc\"]\n",
    "    for label, train_acc, val_acc in zip(topn_labels, train_accs, val_accs):\n",
    "        train_accs_rec[label].append(train_acc.result())\n",
    "        val_accs_rec[label].append(val_acc.result())\n",
    "        print(f\"{label} train: {train_acc.result()}\")\n",
    "        print(f\"{label} val: {val_acc.result()}\")\n",
    "\n",
    "    if top_acc < val_accs[3].result():\n",
    "        model.save_weights(f'saved_weights.h5')\n",
    "\n",
    "    print(f\"Epoch {epoch+1}\")"
   ]
  },
  {
   "cell_type": "code",
   "execution_count": 62,
   "metadata": {},
   "outputs": [
    {
     "data": {
      "application/vnd.jupyter.widget-view+json": {
       "model_id": "ea14a8a6c474431e83427d68d5215dd9",
       "version_major": 2,
       "version_minor": 0
      },
      "text/plain": [
       "HBox(children=(FloatProgress(value=0.0, max=95.0), HTML(value='')))"
      ]
     },
     "metadata": {},
     "output_type": "display_data"
    },
    {
     "name": "stdout",
     "output_type": "stream",
     "text": [
      "\n",
      "acc val: 0.0\n",
      "top5 acc val: 0.32665562629699707\n",
      "top10 acc val: 0.4849337637424469\n",
      "top50 acc val: 0.7335264682769775\n"
     ]
    }
   ],
   "source": [
    "batch_size=128\n",
    "\n",
    "X_user = val_X[\"user_id\"]\n",
    "X_sess = val_X[\"session\"]\n",
    "X_sess_time = val_X[\"X_time\"]\n",
    "X_y_time = val_X[\"y_time\"]   \n",
    "ys = val_y\n",
    "\n",
    "for val_acc in val_accs:\n",
    "    val_acc.reset_states()\n",
    "\n",
    "full_ys, full_preds, full_logits, users = [], [], [], []\n",
    "\n",
    "for batch_users, sesses, sesses_times, y_times, y in tqdm(list(\n",
    "    batchify(X_user, X_sess, X_sess_time, X_y_time, ys, shuffle=True, batch_size=batch_size))):\n",
    "\n",
    "    (sesses, sesses_times), mask = mask_length(\n",
    "        [np.array(sess) for sess in sesses],\n",
    "        [np.array(sess_times) for sess_times in sesses_times],\n",
    "        maskon_vals=0, \n",
    "        maskoff_vals=-np.inf)\n",
    "\n",
    "    batch_logits, batch_preds = model.test_step(\n",
    "        tf.constant(np.array(sesses), tf.int64), \n",
    "        tf.constant(np.array(sesses_times), np.float32),\n",
    "        tf.constant(np.array(mask), tf.float32),\n",
    "        tf.constant(np.array(batch_users), tf.int64), \n",
    "        tf.constant(np.array(y_times, np.float32)), \n",
    "        tf.constant(np.array(y), tf.int64), \n",
    "        val_accs)\n",
    "\n",
    "    full_logits.extend(np.array(batch_logits))\n",
    "    full_preds.extend(np.array(batch_preds))\n",
    "    full_ys.extend(np.array(y))\n",
    "\n",
    "topn_labels = [\"acc\", \"top5 acc\", \"top10 acc\", \"top50 acc\"]\n",
    "for label, val_acc in zip(topn_labels, val_accs):\n",
    "    print(f\"{label} val: {val_acc.result()}\")"
   ]
  },
  {
   "cell_type": "code",
   "execution_count": 66,
   "metadata": {},
   "outputs": [
    {
     "name": "stdout",
     "output_type": "stream",
     "text": [
      "[array([714, 691, 665, 643, 635], dtype=float32), array([413, 403, 387, 372, 360], dtype=float32), array([1.15e+03, 1.11e+03, 1.07e+03, 1.03e+03, 1.01e+03], dtype=float32), array([83.7, 80, 79.3, 76.5, 76.4], dtype=float32), array([432, 430, 413, 392, 376], dtype=float32), array([450, 439, 421, 406, 394], dtype=float32), array([1.22e+03, 1.17e+03, 1.13e+03, 1.11e+03, 1.1e+03], dtype=float32), array([753, 729, 701, 678, 671], dtype=float32), array([1.14e+03, 1.11e+03, 1.07e+03, 1.03e+03, 1.01e+03], dtype=float32), array([1.04e+03, 1.01e+03, 969, 937, 921], dtype=float32)]\n"
     ]
    }
   ],
   "source": [
    "print([sess_preds[np.array(sess_preds).argsort()[-5:][::-1]] for sess_preds in full_logits[:10]])\n",
    "# preds = [np.array(sess_preds).argsort()[-50:][::-1] for sess_preds in full_preds]\n",
    "# preds = [[item_keymap[pred_iid] for pred_iid in session_preds] for session_preds in preds]\n",
    "\n",
    "# # preds = [[pred_iid for pred_iid in session_preds] for session_preds in preds]\n",
    "# # mapped_users = np.array([user_keymap[user] for user in users])\n",
    "# print([(item_keymap[y] in pred, item_keymap[y], pred) for y, pred in zip(full_ys, preds)][:100])"
   ]
  },
  {
   "cell_type": "code",
   "execution_count": 40,
   "metadata": {},
   "outputs": [],
   "source": [
    "print([[f\"{pred:.16f}\" for pred in sess_preds] for sess_preds in full_preds[:2]])"
   ]
  },
  {
   "cell_type": "code",
   "execution_count": 22,
   "metadata": {},
   "outputs": [
    {
     "name": "stdout",
     "output_type": "stream",
     "text": [
      "[array([ 94139,  94333,  94725,  38573,  38562,  38563,  38564,  38565,  38566,  38567,  38568,  38569,  38570,  38571,  38572, 115719,  38561,  38575,  38576,  38577]), array([94333, 76749, 94725, 10768, 94139,  2871, 94026,  9949,  5497, 94858, 68781, 90674, 84415,  4735, 73450, 50274,  2712, 98521, 72624, 97563]), array([ 94139,  96925, 115719,  38577,  38566,  38567,  38568,  38569,  38570,  38571,  38572,  38573,  38574,  38575,  38576,  38578,  38564,  38579,  38580,  38581]), array([94725, 94139, 95555, 94333, 76749, 96925, 90674,  4758, 94858, 21285, 97861, 96757, 17230, 92190, 73187, 77775, 95609, 88480, 28549, 86006]), array([94139, 94725, 94333, 96925, 95555, 76749, 97861, 96757, 94858, 38540, 38574, 38564, 38565, 38566, 38567, 38568, 38569, 38570, 38571, 38572]), array([94139, 94725, 94333, 96925, 97861, 38574, 38565, 38566, 38567, 38568, 38569, 38570, 38571, 38572, 38573, 38575, 38563, 38576, 38577, 38578]), array([ 94139,  94725,  94333,  96925, 115719,  38573,  38564,  38565,  38566,  38567,  38568,  38569,  38570,  38571,  38572,  38574,  38562,  38575,  38576,  38577]), array([ 94139,  94725,  94333,  96925, 115719,  38573,  38564,  38565,  38566,  38567,  38568,  38569,  38570,  38571,  38572,  38574,  38562,  38575,  38576,  38577]), array([ 94139,  94333,  96925,  94725, 115719,  38573,  38564,  38565,  38566,  38567,  38568,  38569,  38570,  38571,  38572,  38574,  38562,  38575,  38576,  38577]), array([ 94139, 115719,  38576,  38565,  38566,  38567,  38568,  38569,  38570,  38571,  38572,  38573,  38574,  38575,  38577,  38563,  38578,  38579,  38580,  38581])]\n"
     ]
    }
   ],
   "source": [
    "print([np.array(sess_preds).argsort()[-20:][::-1] for sess_preds in full_preds][:10])"
   ]
  },
  {
   "cell_type": "code",
   "execution_count": 24,
   "metadata": {},
   "outputs": [
    {
     "name": "stdout",
     "output_type": "stream",
     "text": [
      "108572\n"
     ]
    }
   ],
   "source": [
    "print(item_keymap[38565])"
   ]
  },
  {
   "cell_type": "code",
   "execution_count": null,
   "metadata": {
    "scrolled": true
   },
   "outputs": [],
   "source": [
    "batch_size = 128\n",
    "domain = \"international\"\n",
    "users, preds = [], []\n",
    "for phase in [str(i) for i in range(7)]:\n",
    "    test_dataset = test_X[phase]\n",
    "    X_user = test_dataset[\"user_id\"]\n",
    "    X_sess = test_dataset[\"session\"]\n",
    "    X_sess_time = test_dataset[\"X_time\"]\n",
    "    X_y_time = test_dataset[\"y_time\"]\n",
    "    for batch_users, sesses, sesses_times, y_times in tqdm(list(\n",
    "        batchify(X_user, X_sess, X_sess_time, X_y_time, shuffle=True, batch_size=batch_size))):\n",
    "\n",
    "        (sesses, sesses_times), mask = mask_length(\n",
    "            [np.array(sess) for sess in sesses],\n",
    "            [np.array(sess_times) for sess_times in sesses_times],\n",
    "            maskon_vals=0, \n",
    "            maskoff_vals=-np.inf)\n",
    "\n",
    "        batch_preds = model.test_step(\n",
    "            tf.constant(np.array(sesses), tf.int64), \n",
    "            tf.constant(np.array(sesses_times), np.float32),\n",
    "            tf.constant(np.array(mask), tf.float32),\n",
    "            tf.constant(np.array(batch_users), tf.int64), \n",
    "            tf.constant(np.array(y_times, np.float32)), \n",
    "            None, \n",
    "            [])\n",
    "        preds.extend(np.array(batch_preds))\n",
    "        users.extend(np.array(batch_users))\n",
    "\n",
    "preds = [np.array(sess_preds).argsort()[-50:][::-1] for sess_preds in preds]\n",
    "preds = np.array([[item_keymap[pred_iid] for pred_iid in session_preds] for session_preds in preds])\n",
    "users = np.array([user_keymap[user] for user in users])\n",
    "\n",
    "df = np.concatenate((users[:,None], preds), axis=1)\n",
    "\n",
    "columns = [\"user_id\"]+[f\"item_id_{i:02n}\" for i in range(1, 51)]\n",
    "df = pd.DataFrame(df, columns=columns)\n",
    "\n",
    "folder, filename = filename_from_args(\"output\", domain, \"test\", \"6\", \"submit\", \"csv\")\n",
    "os.makedirs(folder, exist_ok=True)\n",
    "df.to_csv(folder/filename)\n"
   ]
  },
  {
   "cell_type": "code",
   "execution_count": 34,
   "metadata": {},
   "outputs": [
    {
     "name": "stdout",
     "output_type": "stream",
     "text": [
      "dict_keys(['user_id', 'session', 'X_time', 'y_time'])\n"
     ]
    }
   ],
   "source": [
    "print(test_X[\"0\"].keys())"
   ]
  },
  {
   "cell_type": "code",
   "execution_count": null,
   "metadata": {},
   "outputs": [],
   "source": []
  },
  {
   "cell_type": "code",
   "execution_count": null,
   "metadata": {
    "scrolled": true
   },
   "outputs": [],
   "source": [
    "print(user_content[:100])"
   ]
  },
  {
   "cell_type": "code",
   "execution_count": 22,
   "metadata": {},
   "outputs": [
    {
     "data": {
      "image/png": "[encoded data removed]",
      "text/plain": [
       "<Figure size 432x288 with 1 Axes>"
      ]
     },
     "metadata": {
      "needs_background": "light"
     },
     "output_type": "display_data"
    }
   ],
   "source": [
    "plt.plot(val_accs_rec[\"top50 acc\"], \"o-\")\n",
    "plt.title(\"top50 validation accs\")\n",
    "plt.xlabel(\"epoch\")\n",
    "plt.ylabel(\"top50 acc\")\n",
    "plt.show()"
   ]
  },
  {
   "cell_type": "code",
   "execution_count": 24,
   "metadata": {},
   "outputs": [
    {
     "name": "stdout",
     "output_type": "stream",
     "text": [
      "embedding_size 256\n"
     ]
    },
    {
     "ename": "ValueError",
     "evalue": "You are trying to load a weight file containing 5 layers into a model with 1 layers.",
     "output_type": "error",
     "traceback": [
      "\u001b[0;31m---------------------------------------------------------------------------\u001b[0m",
      "\u001b[0;31mValueError\u001b[0m                                Traceback (most recent call last)",
      "\u001b[0;32m<ipython-input-24-73197d055814>\u001b[0m in \u001b[0;36m<module>\u001b[0;34m\u001b[0m\n\u001b[1;32m     10\u001b[0m )\n\u001b[1;32m     11\u001b[0m \u001b[0;34m\u001b[0m\u001b[0m\n\u001b[0;32m---> 12\u001b[0;31m \u001b[0mmodel\u001b[0m\u001b[0;34m.\u001b[0m\u001b[0mload_weights\u001b[0m\u001b[0;34m(\u001b[0m\u001b[0;34m\"saved_weights.h5\"\u001b[0m\u001b[0;34m)\u001b[0m\u001b[0;34m\u001b[0m\u001b[0;34m\u001b[0m\u001b[0m\n\u001b[0m\u001b[1;32m     13\u001b[0m \u001b[0;34m\u001b[0m\u001b[0m\n\u001b[1;32m     14\u001b[0m \u001b[0mX_user\u001b[0m \u001b[0;34m=\u001b[0m \u001b[0mtest_X\u001b[0m\u001b[0;34m[\u001b[0m\u001b[0;34m\"user_id\"\u001b[0m\u001b[0;34m]\u001b[0m\u001b[0;34m\u001b[0m\u001b[0;34m\u001b[0m\u001b[0m\n",
      "\u001b[0;32m~/.pyenv/versions/anaconda3-2019.07/envs/tf2/lib/python3.7/site-packages/tensorflow/python/keras/engine/training.py\u001b[0m in \u001b[0;36mload_weights\u001b[0;34m(self, filepath, by_name, skip_mismatch)\u001b[0m\n\u001b[1;32m    248\u001b[0m         raise ValueError('Load weights is not yet supported with TPUStrategy '\n\u001b[1;32m    249\u001b[0m                          'with steps_per_run greater than 1.')\n\u001b[0;32m--> 250\u001b[0;31m     \u001b[0;32mreturn\u001b[0m \u001b[0msuper\u001b[0m\u001b[0;34m(\u001b[0m\u001b[0mModel\u001b[0m\u001b[0;34m,\u001b[0m \u001b[0mself\u001b[0m\u001b[0;34m)\u001b[0m\u001b[0;34m.\u001b[0m\u001b[0mload_weights\u001b[0m\u001b[0;34m(\u001b[0m\u001b[0mfilepath\u001b[0m\u001b[0;34m,\u001b[0m \u001b[0mby_name\u001b[0m\u001b[0;34m,\u001b[0m \u001b[0mskip_mismatch\u001b[0m\u001b[0;34m)\u001b[0m\u001b[0;34m\u001b[0m\u001b[0;34m\u001b[0m\u001b[0m\n\u001b[0m\u001b[1;32m    251\u001b[0m \u001b[0;34m\u001b[0m\u001b[0m\n\u001b[1;32m    252\u001b[0m   def compile(self,\n",
      "\u001b[0;32m~/.pyenv/versions/anaconda3-2019.07/envs/tf2/lib/python3.7/site-packages/tensorflow/python/keras/engine/network.py\u001b[0m in \u001b[0;36mload_weights\u001b[0;34m(self, filepath, by_name, skip_mismatch)\u001b[0m\n\u001b[1;32m   1264\u001b[0m             f, self.layers, skip_mismatch=skip_mismatch)\n\u001b[1;32m   1265\u001b[0m       \u001b[0;32melse\u001b[0m\u001b[0;34m:\u001b[0m\u001b[0;34m\u001b[0m\u001b[0;34m\u001b[0m\u001b[0m\n\u001b[0;32m-> 1266\u001b[0;31m         \u001b[0mhdf5_format\u001b[0m\u001b[0;34m.\u001b[0m\u001b[0mload_weights_from_hdf5_group\u001b[0m\u001b[0;34m(\u001b[0m\u001b[0mf\u001b[0m\u001b[0;34m,\u001b[0m \u001b[0mself\u001b[0m\u001b[0;34m.\u001b[0m\u001b[0mlayers\u001b[0m\u001b[0;34m)\u001b[0m\u001b[0;34m\u001b[0m\u001b[0;34m\u001b[0m\u001b[0m\n\u001b[0m\u001b[1;32m   1267\u001b[0m \u001b[0;34m\u001b[0m\u001b[0m\n\u001b[1;32m   1268\u001b[0m   \u001b[0;32mdef\u001b[0m \u001b[0m_updated_config\u001b[0m\u001b[0;34m(\u001b[0m\u001b[0mself\u001b[0m\u001b[0;34m)\u001b[0m\u001b[0;34m:\u001b[0m\u001b[0;34m\u001b[0m\u001b[0;34m\u001b[0m\u001b[0m\n",
      "\u001b[0;32m~/.pyenv/versions/anaconda3-2019.07/envs/tf2/lib/python3.7/site-packages/tensorflow/python/keras/saving/hdf5_format.py\u001b[0m in \u001b[0;36mload_weights_from_hdf5_group\u001b[0;34m(f, layers)\u001b[0m\n\u001b[1;32m    683\u001b[0m                      \u001b[0;34m'containing '\u001b[0m \u001b[0;34m+\u001b[0m \u001b[0mstr\u001b[0m\u001b[0;34m(\u001b[0m\u001b[0mlen\u001b[0m\u001b[0;34m(\u001b[0m\u001b[0mlayer_names\u001b[0m\u001b[0;34m)\u001b[0m\u001b[0;34m)\u001b[0m \u001b[0;34m+\u001b[0m\u001b[0;34m\u001b[0m\u001b[0;34m\u001b[0m\u001b[0m\n\u001b[1;32m    684\u001b[0m                      \u001b[0;34m' layers into a model with '\u001b[0m \u001b[0;34m+\u001b[0m \u001b[0mstr\u001b[0m\u001b[0;34m(\u001b[0m\u001b[0mlen\u001b[0m\u001b[0;34m(\u001b[0m\u001b[0mfiltered_layers\u001b[0m\u001b[0;34m)\u001b[0m\u001b[0;34m)\u001b[0m \u001b[0;34m+\u001b[0m\u001b[0;34m\u001b[0m\u001b[0;34m\u001b[0m\u001b[0m\n\u001b[0;32m--> 685\u001b[0;31m                      ' layers.')\n\u001b[0m\u001b[1;32m    686\u001b[0m \u001b[0;34m\u001b[0m\u001b[0m\n\u001b[1;32m    687\u001b[0m   \u001b[0;31m# We batch weight value assignments in a single backend call\u001b[0m\u001b[0;34m\u001b[0m\u001b[0;34m\u001b[0m\u001b[0;34m\u001b[0m\u001b[0m\n",
      "\u001b[0;31mValueError\u001b[0m: You are trying to load a weight file containing 5 layers into a model with 1 layers."
     ]
    }
   ],
   "source": [
    "model = TestModel(\n",
    "    num_users = num_users,\n",
    "    num_items = num_items,\n",
    "    embedding_size=256,\n",
    "    gru_size=256,\n",
    "    dense2_size=512,\n",
    "    dense3_size=256,\n",
    "    softmax_classes=128,\n",
    "    temp=.01\n",
    ")\n",
    "\n",
    "model.load_weights(\"saved_weights.h5\")\n",
    "\n",
    "X_user = test_X[\"user_id\"]\n",
    "X_sess = test_X[\"session\"]\n",
    "X_sess_time = test_X[\"X_time\"]\n",
    "X_y_time = test_X[\"y_time\"]\n",
    "\n",
    "predictions = {}\n",
    "for users, sesses, sess_times, y_times in tqdm(list(\n",
    "    batchify(X_user, X_sess, X_sess_time, X_y_time, shuffle=True, batch_size=batch_size))):\n",
    "\n",
    "    (sesses, sess_times), mask = mask_length(\n",
    "        np.array(sesses),\n",
    "        np.array(sess_times),\n",
    "        maskon_vals=0, \n",
    "        maskoff_vals=-np.inf)\n",
    "\n",
    "    preds, logits = model.test_step(\n",
    "        tf.constant(sesses), \n",
    "        tf.constant(sess_times, np.float32),\n",
    "        tf.constant(mask), \n",
    "        tf.constant(np.array(users)), \n",
    "        tf.constant(np.array(y_times, np.float32)), \n",
    "        tf.constant(np.array(y)))\n",
    "    \n",
    "    preds = self.call(sesses, sess_times, masks, users, y_times, training=False)\n",
    "    for user, pred in zip(users, preds):\n",
    "        predictions[user] = pred"
   ]
  },
  {
   "cell_type": "code",
   "execution_count": 25,
   "metadata": {},
   "outputs": [
    {
     "ename": "NotImplementedError",
     "evalue": "",
     "output_type": "error",
     "traceback": [
      "\u001b[0;31m---------------------------------------------------------------------------\u001b[0m",
      "\u001b[0;31mNotImplementedError\u001b[0m                       Traceback (most recent call last)",
      "\u001b[0;32m<ipython-input-25-74d572bd2453>\u001b[0m in \u001b[0;36m<module>\u001b[0;34m\u001b[0m\n\u001b[0;32m----> 1\u001b[0;31m \u001b[0mmodel\u001b[0m\u001b[0;34m.\u001b[0m\u001b[0mto_json\u001b[0m\u001b[0;34m(\u001b[0m\u001b[0;34m)\u001b[0m\u001b[0;34m\u001b[0m\u001b[0;34m\u001b[0m\u001b[0m\n\u001b[0m",
      "\u001b[0;32m~/.pyenv/versions/anaconda3-2019.07/envs/tf2/lib/python3.7/site-packages/tensorflow/python/keras/engine/network.py\u001b[0m in \u001b[0;36mto_json\u001b[0;34m(self, **kwargs)\u001b[0m\n\u001b[1;32m   1296\u001b[0m         \u001b[0mA\u001b[0m \u001b[0mJSON\u001b[0m \u001b[0mstring\u001b[0m\u001b[0;34m.\u001b[0m\u001b[0;34m\u001b[0m\u001b[0;34m\u001b[0m\u001b[0m\n\u001b[1;32m   1297\u001b[0m     \"\"\"\n\u001b[0;32m-> 1298\u001b[0;31m     \u001b[0mmodel_config\u001b[0m \u001b[0;34m=\u001b[0m \u001b[0mself\u001b[0m\u001b[0;34m.\u001b[0m\u001b[0m_updated_config\u001b[0m\u001b[0;34m(\u001b[0m\u001b[0;34m)\u001b[0m\u001b[0;34m\u001b[0m\u001b[0;34m\u001b[0m\u001b[0m\n\u001b[0m\u001b[1;32m   1299\u001b[0m     return json.dumps(\n\u001b[1;32m   1300\u001b[0m         model_config, default=serialization.get_json_type, **kwargs)\n",
      "\u001b[0;32m~/.pyenv/versions/anaconda3-2019.07/envs/tf2/lib/python3.7/site-packages/tensorflow/python/keras/engine/network.py\u001b[0m in \u001b[0;36m_updated_config\u001b[0;34m(self)\u001b[0m\n\u001b[1;32m   1274\u001b[0m     \u001b[0;32mfrom\u001b[0m \u001b[0mtensorflow\u001b[0m\u001b[0;34m.\u001b[0m\u001b[0mpython\u001b[0m\u001b[0;34m.\u001b[0m\u001b[0mkeras\u001b[0m \u001b[0;32mimport\u001b[0m \u001b[0m__version__\u001b[0m \u001b[0;32mas\u001b[0m \u001b[0mkeras_version\u001b[0m  \u001b[0;31m# pylint: disable=g-import-not-at-top\u001b[0m\u001b[0;34m\u001b[0m\u001b[0;34m\u001b[0m\u001b[0m\n\u001b[1;32m   1275\u001b[0m \u001b[0;34m\u001b[0m\u001b[0m\n\u001b[0;32m-> 1276\u001b[0;31m     \u001b[0mconfig\u001b[0m \u001b[0;34m=\u001b[0m \u001b[0mself\u001b[0m\u001b[0;34m.\u001b[0m\u001b[0mget_config\u001b[0m\u001b[0;34m(\u001b[0m\u001b[0;34m)\u001b[0m\u001b[0;34m\u001b[0m\u001b[0;34m\u001b[0m\u001b[0m\n\u001b[0m\u001b[1;32m   1277\u001b[0m     model_config = {\n\u001b[1;32m   1278\u001b[0m         \u001b[0;34m'class_name'\u001b[0m\u001b[0;34m:\u001b[0m \u001b[0mself\u001b[0m\u001b[0;34m.\u001b[0m\u001b[0m__class__\u001b[0m\u001b[0;34m.\u001b[0m\u001b[0m__name__\u001b[0m\u001b[0;34m,\u001b[0m\u001b[0;34m\u001b[0m\u001b[0;34m\u001b[0m\u001b[0m\n",
      "\u001b[0;32m~/.pyenv/versions/anaconda3-2019.07/envs/tf2/lib/python3.7/site-packages/tensorflow/python/keras/engine/network.py\u001b[0m in \u001b[0;36mget_config\u001b[0;34m(self)\u001b[0m\n\u001b[1;32m    965\u001b[0m   \u001b[0;32mdef\u001b[0m \u001b[0mget_config\u001b[0m\u001b[0;34m(\u001b[0m\u001b[0mself\u001b[0m\u001b[0;34m)\u001b[0m\u001b[0;34m:\u001b[0m\u001b[0;34m\u001b[0m\u001b[0;34m\u001b[0m\u001b[0m\n\u001b[1;32m    966\u001b[0m     \u001b[0;32mif\u001b[0m \u001b[0;32mnot\u001b[0m \u001b[0mself\u001b[0m\u001b[0;34m.\u001b[0m\u001b[0m_is_graph_network\u001b[0m\u001b[0;34m:\u001b[0m\u001b[0;34m\u001b[0m\u001b[0;34m\u001b[0m\u001b[0m\n\u001b[0;32m--> 967\u001b[0;31m       \u001b[0;32mraise\u001b[0m \u001b[0mNotImplementedError\u001b[0m\u001b[0;34m\u001b[0m\u001b[0;34m\u001b[0m\u001b[0m\n\u001b[0m\u001b[1;32m    968\u001b[0m     \u001b[0;32mreturn\u001b[0m \u001b[0mcopy\u001b[0m\u001b[0;34m.\u001b[0m\u001b[0mdeepcopy\u001b[0m\u001b[0;34m(\u001b[0m\u001b[0mget_network_config\u001b[0m\u001b[0;34m(\u001b[0m\u001b[0mself\u001b[0m\u001b[0;34m)\u001b[0m\u001b[0;34m)\u001b[0m\u001b[0;34m\u001b[0m\u001b[0;34m\u001b[0m\u001b[0m\n\u001b[1;32m    969\u001b[0m \u001b[0;34m\u001b[0m\u001b[0m\n",
      "\u001b[0;31mNotImplementedError\u001b[0m: "
     ]
    }
   ],
   "source": [
    "model.to_json()"
   ]
  },
  {
   "cell_type": "code",
   "execution_count": null,
   "metadata": {},
   "outputs": [],
   "source": []
  }
 ],
 "metadata": {
  "kernelspec": {
   "display_name": "Python 3.7.4 64-bit ('tf2': conda)",
   "language": "python",
   "name": "python37464bittf2conda5b374ca37842424e87cbc2e4927142fe"
  },
  "language_info": {
   "codemirror_mode": {
    "name": "ipython",
    "version": 3
   },
   "file_extension": ".py",
   "mimetype": "text/x-python",
   "name": "python",
   "nbconvert_exporter": "python",
   "pygments_lexer": "ipython3",
   "version": "3.7.3"
  }
 },
 "nbformat": 4,
 "nbformat_minor": 4
}
